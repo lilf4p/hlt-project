{
  "cells": [
    {
      "cell_type": "markdown",
      "metadata": {
        "id": "TpZB61U3QaK-"
      },
      "source": [
        "# Fine-Tuning Bert for text Classification - PROTOTYPING\n",
        "## ECHR Violation Prediction\n",
        "Following the tutorial of [huggingface](https://huggingface.co/docs/transformers/tasks/sequence_classification)"
      ]
    },
    {
      "cell_type": "markdown",
      "metadata": {},
      "source": [
        "### Load the prorotyping subset of the dataset."
      ]
    },
    {
      "cell_type": "code",
      "execution_count": 9,
      "metadata": {
        "id": "ZotksHYDQaLA"
      },
      "outputs": [],
      "source": [
        "import pandas as pd\n",
        "\n",
        "df_train = pd.read_csv('ECHR_Dataset_Sub/EN_train_sub.csv')\n",
        "df_dev = pd.read_csv('ECHR_Dataset_Sub/EN_dev_sub.csv')\n",
        "df_test = pd.read_csv('ECHR_Dataset_Sub/EN_test_sub.csv')"
      ]
    },
    {
      "cell_type": "code",
      "execution_count": 11,
      "metadata": {
        "colab": {
          "base_uri": "https://localhost:8080/"
        },
        "id": "3DMXgtCkhL3C",
        "outputId": "7712170e-442f-4f36-c4d0-423f124d203c"
      },
      "outputs": [
        {
          "name": "stdout",
          "output_type": "stream",
          "text": [
            "   VIOLATED_ARTICLES\n",
            "0                 []\n",
            "1                 []\n",
            "2                 []\n",
            "3                 []\n",
            "4                 []\n",
            "..               ...\n",
            "95             ['6']\n",
            "96             ['6']\n",
            "97             ['6']\n",
            "98        ['3', '5']\n",
            "99             ['6']\n",
            "\n",
            "[100 rows x 1 columns]\n"
          ]
        }
      ],
      "source": [
        "print(df_train[['VIOLATED_ARTICLES']])"
      ]
    },
    {
      "cell_type": "code",
      "execution_count": 12,
      "metadata": {
        "colab": {
          "base_uri": "https://localhost:8080/"
        },
        "id": "FzwrzH-0QaLA",
        "outputId": "9fce2b84-16fb-4ba0-f2de-a87411cdca34"
      },
      "outputs": [
        {
          "name": "stdout",
          "output_type": "stream",
          "text": [
            "   VIOLATED_ARTICLES  LABEL\n",
            "97             ['6']      1\n",
            "93             ['5']      1\n",
            "33                []      0\n",
            "95             ['6']      1\n",
            "62             ['8']      1\n",
            "25                []      0\n",
            "34                []      0\n",
            "72             ['6']      1\n",
            "2                 []      0\n",
            "32                []      0\n"
          ]
        }
      ],
      "source": [
        "# print VIOLATED_ARTICLES and labels\n",
        "print(df_train[['VIOLATED_ARTICLES', 'LABEL']].sample(10))"
      ]
    },
    {
      "cell_type": "markdown",
      "metadata": {},
      "source": [
        "### Prepare Dataset: use just text and label columns"
      ]
    },
    {
      "cell_type": "code",
      "execution_count": 13,
      "metadata": {
        "id": "rAH_4e5rQaLB"
      },
      "outputs": [
        {
          "name": "stdout",
          "output_type": "stream",
          "text": [
            "                                                TEXT  LABEL\n",
            "0  ['1. The applicant, Mr Jusuf Nezirović, is a S...      0\n",
            "1  ['4. The applicant, Mr İbrahim Acar was born i...      0\n",
            "2  ['6. The applicant was born in 1977 and lives ...      0\n",
            "3  ['The applicants, Monika and Sascha Freilinger...      0\n",
            "4  ['The applicant, Mr Pavel Janata, is a Slovaki...      0\n"
          ]
        }
      ],
      "source": [
        "# remove all columns except text and label\n",
        "df_train = df_train[['TEXT', 'LABEL']]\n",
        "df_dev = df_dev[['TEXT', 'LABEL']]\n",
        "df_test = df_test[['TEXT', 'LABEL']]\n",
        "\n",
        "print(df_train.head())"
      ]
    },
    {
      "cell_type": "code",
      "execution_count": 14,
      "metadata": {
        "id": "BwVakSa0QaLB"
      },
      "outputs": [],
      "source": [
        "train_values = df_train['TEXT'].values\n",
        "dev_values = df_dev['TEXT'].values\n",
        "test_values = df_test['TEXT'].values\n",
        "\n",
        "df_train['TEXT'] = [\"\".join(x) for x in train_values]\n",
        "df_dev['TEXT'] = [\"\".join(x) for x in dev_values]\n",
        "df_test['TEXT'] = [\"\".join(x) for x in test_values]\n"
      ]
    },
    {
      "cell_type": "code",
      "execution_count": 15,
      "metadata": {
        "id": "Xk_CgbmLQaLB"
      },
      "outputs": [
        {
          "name": "stdout",
          "output_type": "stream",
          "text": [
            "<class 'str'>\n"
          ]
        },
        {
          "data": {
            "text/plain": [
              "\"['1. The applicant, Mr Jusuf Nezirović, is a Slovenian national who was born in 1961 and lives in Trbovlje. He was represented before the Court by Mr Boštjan Verstovšek, a lawyer practising in Celje.', '2.', '3. On 12 October 1999 the applicant was injured in an industrial accident. The applicant’s employer had taken out insurance with the insurance company ZT.', '4. On 12 September 2001 the applicant instituted civil proceedings against ZT in the Ljubljana District Court (Okrožno sodišče v Ljubljani) seeking damages in the amount of 8,590,967 Slovenian tolars (approximately 35,800 euros) for the injuries sustained.', 'Between 1 October 2001 and 19 January 2006 the applicant lodged seven preliminary written submissions and/or adduced evidence.', 'Between 3 September 2003 and 21 September 2005 he made four requests that a date be set for a hearing. In letters to the applicant of 11 September 2003 and 28 June 2004, the judge explained that his case was not yet at the top of the list of cases for examination by the court.', 'Between 15 December 2004 and 27 September 2006 four hearings were held. One hearing, scheduled for 25 November 2005, was adjourned at the applicant’s request.', 'During the proceedings the court appointed a medical expert. The court also sought an additional opinion from the appointed expert.', 'On 27 September 2006 the court decided to deliver a written judgment. The judgment, upholding the applicant’s claim in part, was served on the applicant on 16 November 2006.', '5. On 30 November 2006 the applicant appealed to the Ljubljana Higher Court (Višje sodišče v Ljubljani).', 'On 9 May 2007 the court allowed the applicant’s appeal in part and increased the amount of damages awarded.', 'The judgment was served on the applicant on 31 May 2007.', '6. On 22 June 2007 the applicant lodged an appeal on points of law with the Supreme Court (Vrhovno sodišče).', '7. On 22 August 2007 the Ljubljana Higher Court dismissed the applicant’s request for the correction of an alleged material error in its judgment.', 'The proceedings before the Supreme Court would appear to be still pending.', '8. On 27 February 2008, while the proceedings were pending before the Supreme Court, the applicant lodged a supervisory appeal with the Ljubljana District Court, in accordance with section 6 of the Act on the Protection of the Right to a Trial without undue Delay (Zakon o varstvu pravice do sojenja brez nepotrebnega odlašanja, Official Gazette, no. 49/2006 - “the 2006 Act”). In his supervisory appeal, the applicant explained that the proceedings had begun on 12 September 2001 and were still pending. As a consequence, his right to a trial within a reasonable time had been violated. He requested that the proceedings on his appeal on points of law be expedited and that a decision be delivered by the end of 2008 at the latest.', 'There is no decision as to this supervisory appeal in the case file.', '9. On 27 March 2008 the applicant lodged a new supervisory appeal with the Ljubljana District Court, in which he described more thoroughly the processing of his case by the courts and alleged that his right to a trial within a reasonable time had been breached.', '10. On 10 April 2008 the president of the Supreme Court, to whom the supervisory appeal had been transferred, rejected it under section 6, subsection 5, of the 2006 Act. He noted that case had been submitted to the Supreme Court on 13 December 2007. Having regard to the measures available to him under the 2006 Act, he concluded that the proceedings could not be expedited. He added, however, that he had taken steps to eliminate the systemic delays at the Supreme Court, namely the employment of additional judges and legal secretaries.', '11. On 25 April 2008, relying on the same grounds as in his supervisory appeal, the applicant lodged a motion for a deadline with the Supreme Court. He requested that the case be decided within a month.', '12. On 9 May 2008, referring to his findings in the decision rejecting the supervisory appeal, the president of the Supreme Court rejected the motion for a deadline as unfounded, on the basis of section 11, subsection 3, of the 2006 Act.', '13. Following the judgment in Lukenda v. Slovenia (no. 23032/02, 6 October 2005), and decision no. U-I-65/05 of the Constitutional Court (22 September 2005), both of which bound the Slovenian State to establish conditions in which the right to a trial without undue delay was to be afforded, the Slovenian Government adopted on 12 December 2005 a Joint State Project on the Elimination of Court Backlogs, the so-called “Lukenda Project”. Its goal is the elimination of backlogs in Slovenian courts and prosecutors’ offices by the end of 2010, by providing for structural and managerial reform of the judiciary.', '14. The 2006 Act (see paragraph 8 above), the preparation of which was part of the Lukenda Project, was enacted by the Slovenian Parliament on 26 April 2006. It was published in the Official Gazette on 12 May 2006 and came into force on 17 May 2006. On 1 January 2007 it became operational, which means that it has been implemented since that date.', '15. Section 3 of the 2006 Act provides for two remedies to expedite pending proceedings - a supervisory appeal (nadzorstvena pritožba) and a motion for a deadline (rokovni predlog) - and, ultimately, for a claim for just satisfaction in respect of damage sustained on account of the undue delay (zahteva za pravično zadoščenje).', '16. Section 4 defines the criteria that domestic authorities should take into account when assessing such complaints:', '“When deciding on the legal remedies under this Act, the circumstances of the particular case shall be taken into account, namely: its complexity in terms of facts and law; actions of the parties to the proceedings, in particular as regards the use of procedural rights and fulfilment of obligations in the proceedings; compliance with rules on the set order for resolving cases, or with statutory deadlines for fixing preliminary hearings or for giving court decisions; the manner in which the case was heard before a supervisory appeal or a motion for a deadline was lodged; the nature and type of case and its importance for a party.”', '17. The supervisory appeal is governed by sections 5 and 6, which, in so far as relevant, provide:', '“(1) If a party considers that the court is unduly protracting the decision-making, he or she may lodge a supervisory appeal in writing before the court hearing the case; the decision thereon is taken by the .... president of the court (hereinafter ‘the president of the court’).', '(2) For the purposes of decision-making concerning the protection of the right to a trial without undue delay, the supervisory appeal shall contain the following elements:', '...', '– indication of circumstances or other particulars concerning the case, which demonstrate that the court is unduly protracting the decision-making;', '...', '“(1) If the supervisory appeal is manifestly unfounded having regard to the timetable for resolving the case concerned by the supervisory appeal, the president of the court shall dismiss the appeal by a ruling.', '(2) If the supervisory appeal does not contain all the required elements referred to in section 5(2) of this Act, the president of the court shall dismiss it by a ruling. No appeal shall lie against that ruling.', '(3) If no ruling as provided for in paragraphs 1 or 2 of this section is given, the president of the court shall, in the framework of his court management competence under the statute governing the court system, forthwith request the .... judge or chair of a court panel (hereinafter ‘the judge’) to whom the case has been assigned for resolution to submit a report indicating reasons for the duration of proceedings, not later than fifteen days after receiving the request of the president of the court or after obtaining the file, if necessary for drawing up the report. The report shall include the declaration in respect of criteria referred to in section 4 of this Act and the opinion on the time-limit within which the case may be resolved. The president of the court may also require the judge to submit the case file if he assesses that, in the light of allegations of the party indicated in the supervisory appeal, its examination is necessary.', '(4) If the judge notifies the president of the court in writing that all relevant procedural acts will be performed or a decision issued within a time-limit not exceeding four months following the receipt of the supervisory appeal, the president of the court shall inform the party thereof and thus conclude the consideration of the supervisory appeal.', '(5) If the president of the court establishes that in view of the criteria referred to in section 4 of this Act the court is not unduly protracting the decision-making in the case, he shall dismiss the supervisory appeal by a ruling.', '(6) If the president of the court ...', '(7) If the president of the court establishes that the undue delay in decision-making in the case is attributable to an excessive workload or an extended absence of the judge, he may order that the case be reassigned. He may also propose that an additional judge be assigned to the court or order other measures in accordance with the statute governing the judicial service.', '...”', '18. Sections 8 and 11 define the motion for a deadline and provide for measures that may be applied by the court dealing with the motion. They read, in so far as relevant, as follows:', '“(1) If, under section 6(1) or (5) of this Act, the president of the court dismisses the supervisory appeal or fails to respond to the party within two months or fails to send the notification referred to in section 6(4) of this Act within the said time-limit or if appropriate procedural acts have not been performed within the time-limit set in the notification or ruling of the president of the court, the party may lodge an application for a deadline on the grounds stated in section 5(1) of this Act with the court hearing the case.', '...', '(3) The party may lodge the motion for a deadline within fifteen days after receiving the ruling or after the time-limits provided for in paragraph 1 of this section.”', '(1) The president of the higher court in the judicial area covering the local court, district court or other court of first instance, shall have the competence to decide on the motion for a deadline concerning the cases heard by the local court, district court or other court of first instance.', '(2) The president of the Supreme Court of the Republic of Slovenia shall have the competence to decide on the motion for a deadline concerning cases heard by higher court or court having the status of higher court.', '(3) The president of the Supreme Court of the Republic of Slovenia shall have the competence to decide on the motion for a deadline concerning cases heard by the Supreme Court of the Republic of Slovenia.', '(4) Other judges may be assigned by the annual schedule of allocation to act in place of or together with the presidents of courts referred to in previous paragraphs for decision-making on motions for a deadline.', '...', '(3) If the president of the court establishes that, in view of the criteria referred to in Article 4 of this Act, the court does not unduly delay with the decision-making of the case, he shall reject the motion for a deadline by way of a ruling.', '...', '(5) The president of the court shall decide on the motion for a deadline within fifteen days after receiving it.”', '19. Section 15 provides for the conditions under which a claim for just satisfaction can be lodged and section 16 regulates the monetary compensation and criteria for its assessment:', '“(1) If the supervisory appeal lodged by the party was granted or if a motion for a deadline has been lodged, the party may claim just satisfaction under the present Act.', '...”', '“(1) Monetary compensation shall be payable for non-pecuniary damage caused by a violation of the right to a trial without undue delay. Strict liability for any damage caused shall lie with the Republic of Slovenia.', '(2) Monetary compensation for individual finally decided cases shall be granted in the amount of 300 up to 5,000 euros.', '(3) When deciding on the amount of compensation, the criteria referred to in section 4 of this Act shall be taken into account, in particular the complexity of the case, actions of the State, actions of the party and the importance of the case for the party.”', '20. Sections 19 and 20 govern just satisfaction proceedings:', '“(1) Proceedings to enforce a claim for just satisfaction, provided that the condition referred to in section 15(1) of this Act is met, shall be instituted by a party by means of a motion for settlement lodged with the State Attorney’s Office with a view to reaching an agreement on the type or amount of just satisfaction. The party may lodge such motion within nine months after the final resolution of the case...', '...”', '“(1) If no agreement under section 19 of this Act is reached upon the motion for settlement, or the State Attorney’s Office and the party fail to negotiate an agreement within three months of the date of the motion being lodged, the party may bring an action for damages.', '(2) An action for damages against the Republic of Slovenia shall be brought not later than eighteen months after the final resolution of the party’s case.', '...”', '21. The relevant provisions of the Civil Procedure Act (Zakon o pravdnem postopku, Official Gazette no. 83/2001) provide:', '“A judgment, against which an appeal can no longer be lodged, shall become final (pravnomočen), insofar as the party’s claim or counter-claim has been decided therein.', '...”', '“The parties may lodge an appeal against a judgment delivered at first instance within thirty days from the service of its written grounds...', 'An appeal, lodged on time, precludes the judgment from becoming final in the part which has been challenged in the appeal.”', '“The parties may lodge an appeal on points of law against a final judgment, delivered at second instance, within thirty days from the service of its written grounds.”']\""
            ]
          },
          "execution_count": 15,
          "metadata": {},
          "output_type": "execute_result"
        }
      ],
      "source": [
        "print(type(df_train['TEXT'][0]))\n",
        "df_train['TEXT'][0]"
      ]
    },
    {
      "cell_type": "code",
      "execution_count": 16,
      "metadata": {
        "id": "-t1XFQw9QaLB"
      },
      "outputs": [],
      "source": [
        "# change name TEXT to text and LABEL to label\n",
        "df_train.rename(columns={'TEXT': 'text', 'LABEL': 'label'}, inplace=True)\n",
        "df_dev.rename(columns={'TEXT': 'text', 'LABEL': 'label'}, inplace=True)\n",
        "df_test.rename(columns={'TEXT': 'text', 'LABEL': 'label'}, inplace=True)"
      ]
    },
    {
      "cell_type": "markdown",
      "metadata": {},
      "source": [
        "### Encode the text using Tokenizer pretrained form BERT"
      ]
    },
    {
      "cell_type": "code",
      "execution_count": 8,
      "metadata": {
        "id": "NV0L_NZ4QaLC"
      },
      "outputs": [],
      "source": [
        "from transformers import AutoTokenizer\n",
        "\n",
        "tokenizer = AutoTokenizer.from_pretrained('bert-base-uncased')"
      ]
    },
    {
      "cell_type": "code",
      "execution_count": 9,
      "metadata": {
        "id": "kAvg4g8kQaLC"
      },
      "outputs": [],
      "source": [
        "def preprocess_function(examples):\n",
        "    return tokenizer(examples[\"text\"])"
      ]
    },
    {
      "cell_type": "code",
      "execution_count": 10,
      "metadata": {
        "id": "2sVU8l54QaLD"
      },
      "outputs": [
        {
          "data": {
            "text/plain": [
              "Dataset({\n",
              "    features: ['text', 'label'],\n",
              "    num_rows: 100\n",
              "})"
            ]
          },
          "execution_count": 10,
          "metadata": {},
          "output_type": "execute_result"
        }
      ],
      "source": [
        "# df_train from pandas dataframe to huggingface dataset format\n",
        "from datasets import Dataset\n",
        "train_dataset = Dataset.from_pandas(df_train)\n",
        "train_dataset"
      ]
    },
    {
      "cell_type": "code",
      "execution_count": 12,
      "metadata": {
        "colab": {
          "base_uri": "https://localhost:8080/",
          "height": 88,
          "referenced_widgets": [
            "910daa87434f4e35b991c013b4922dab",
            "4ac076ab94784eb0ad2f53bd65bee7bb",
            "d7f45785767b4ff39a4b6191bd9f2b7a",
            "ebf25b484c82435faccb567c3f9281e4",
            "e8eb96a0e775448385ae6007cd06dc88",
            "bedcde5eb6cb4367b320b5d009cdeced",
            "c8e82f9318c64271a1e2d506dbfd5661",
            "4a6dfff73dcc4b4f86ffcf455deb3a7c",
            "b1379a0ce8de4135b9701bf4af3c052c",
            "200f7e6ecb624c0cb2f4156b72724d95",
            "5686b3f9e345485181bcf5bd6a52a22a"
          ]
        },
        "id": "09iFn7yyQaLD",
        "outputId": "c67dd090-2104-4247-d3f1-1402fd14b154"
      },
      "outputs": [
        {
          "data": {
            "application/vnd.jupyter.widget-view+json": {
              "model_id": "65ef51c21fb440a89b28662d7c10cec1",
              "version_major": 2,
              "version_minor": 0
            },
            "text/plain": [
              "Map:   0%|          | 0/100 [00:00<?, ? examples/s]"
            ]
          },
          "metadata": {},
          "output_type": "display_data"
        },
        {
          "name": "stderr",
          "output_type": "stream",
          "text": [
            "Token indices sequence length is longer than the specified maximum sequence length for this model (3209 > 512). Running this sequence through the model will result in indexing errors\n"
          ]
        }
      ],
      "source": [
        "train_dataset_tokenized = train_dataset.map(preprocess_function, batched= True)"
      ]
    },
    {
      "cell_type": "code",
      "execution_count": 13,
      "metadata": {
        "colab": {
          "base_uri": "https://localhost:8080/"
        },
        "id": "kK2HXBbJQaLD",
        "outputId": "092042dd-0129-4b39-ae4c-dfd8bf441a94"
      },
      "outputs": [
        {
          "name": "stdout",
          "output_type": "stream",
          "text": [
            "Dataset({\n",
            "    features: ['text', 'label', 'input_ids', 'token_type_ids', 'attention_mask'],\n",
            "    num_rows: 100\n",
            "})\n",
            "3209\n"
          ]
        }
      ],
      "source": [
        "print(train_dataset_tokenized)\n",
        "print(train_dataset_tokenized[0]['input_ids'].__len__())"
      ]
    },
    {
      "cell_type": "code",
      "execution_count": 14,
      "metadata": {
        "colab": {
          "base_uri": "https://localhost:8080/",
          "height": 136,
          "referenced_widgets": [
            "bcd12f2b1236443ea0b00cc3ea405198",
            "dababab53c04410998f5d2036f26595b",
            "432b654160e64d84bb1dee6c9da4ca1a",
            "b0b74ae8099d44efb8ad786737410f3e",
            "a7023ff2936146a5b61dbe0cf627a5af",
            "8c4338fe613c4e11b9ea717a47cf84c2",
            "3a54defc5fb243e8baa0216ebf5f242b",
            "a44a3deebf304d5e90cb8888f64bac7e",
            "3c9304ed20074bf5ac3e956bd5fae6c4",
            "8426edcddd704b468f535d45dfe9f964",
            "6d7dad6847584ea4b63b52ac2679e80f"
          ]
        },
        "id": "dMHryGviQaLE",
        "outputId": "72f645a7-2a8c-4ae6-991f-6b3e2fd556b9"
      },
      "outputs": [
        {
          "data": {
            "application/vnd.jupyter.widget-view+json": {
              "model_id": "ec977900c58c43af9b59f71c140632dd",
              "version_major": 2,
              "version_minor": 0
            },
            "text/plain": [
              "Map:   0%|          | 0/100 [00:00<?, ? examples/s]"
            ]
          },
          "metadata": {},
          "output_type": "display_data"
        },
        {
          "name": "stdout",
          "output_type": "stream",
          "text": [
            "2968\n"
          ]
        },
        {
          "data": {
            "text/plain": [
              "Dataset({\n",
              "    features: ['text', 'label', 'input_ids', 'token_type_ids', 'attention_mask'],\n",
              "    num_rows: 100\n",
              "})"
            ]
          },
          "execution_count": 14,
          "metadata": {},
          "output_type": "execute_result"
        }
      ],
      "source": [
        "# do the same for df_dev\n",
        "dev_dataset = Dataset.from_pandas(df_dev)\n",
        "dev_dataset_tokenized = dev_dataset.map(preprocess_function, batched=True)\n",
        "print(dev_dataset_tokenized[0]['input_ids'].__len__())\n",
        "dev_dataset_tokenized\n"
      ]
    },
    {
      "cell_type": "code",
      "execution_count": 15,
      "metadata": {
        "colab": {
          "base_uri": "https://localhost:8080/"
        },
        "id": "juQgsTWKlmw_",
        "outputId": "f5be1fc9-5a50-413e-bd6d-d157ebdde3db"
      },
      "outputs": [
        {
          "data": {
            "text/plain": [
              "list"
            ]
          },
          "execution_count": 15,
          "metadata": {},
          "output_type": "execute_result"
        }
      ],
      "source": [
        "type(dev_dataset_tokenized[0]['input_ids'])"
      ]
    },
    {
      "cell_type": "markdown",
      "metadata": {},
      "source": [
        "### Instead of truncate to first 512, try to undarstand the best way to use the whole text."
      ]
    },
    {
      "cell_type": "code",
      "execution_count": 19,
      "metadata": {
        "id": "CKiL2-tZOKck"
      },
      "outputs": [],
      "source": [
        "def head_tail_tokens(dataset, head:int, tail:int):\n",
        "\n",
        "    # from dataset transformers to dataframe pandas\n",
        "    df = pd.DataFrame(dataset)\n",
        "\n",
        "    # slice each input_ids value  only if head + tail < len(input_ids)\n",
        "    df['input_ids'] = df['input_ids'].apply(lambda x: x[:head] + x[-tail:] if len(x) > head + tail else x)\n",
        "     # do the same for attention_mask\n",
        "    df['attention_mask'] = df['attention_mask'].apply(lambda x: x[:head] + x[-tail:] if len(x) > head + tail else x)\n",
        "    # do the same for token_type_ids\n",
        "    df['token_type_ids'] = df['token_type_ids'].apply(lambda x: x[:head] + x[-tail:] if len(x) > head + tail else x)\n",
        "\n",
        "\n",
        "    # convert back to dataset transformers\n",
        "    dataset = Dataset.from_pandas(df)\n",
        "\n",
        "    return dataset"
      ]
    },
    {
      "cell_type": "code",
      "execution_count": 17,
      "metadata": {
        "colab": {
          "base_uri": "https://localhost:8080/"
        },
        "id": "hGXlDuAYP_Bi",
        "outputId": "fddaa3cf-c5e9-413f-8e0c-7aedbbd5940d"
      },
      "outputs": [
        {
          "name": "stdout",
          "output_type": "stream",
          "text": [
            "294\n",
            "500\n"
          ]
        }
      ],
      "source": [
        "train_head_tail = head_tail_tokens(train_dataset_tokenized, 250,250)\n",
        "print(train_head_tail[1]['input_ids'].__len__())\n",
        "\n",
        "dev_head_tail = head_tail_tokens(dev_dataset_tokenized, 250,250)\n",
        "print(dev_head_tail[1]['input_ids'].__len__())"
      ]
    },
    {
      "cell_type": "markdown",
      "metadata": {},
      "source": [
        "### Define model, metrics and training parameters."
      ]
    },
    {
      "cell_type": "code",
      "execution_count": 18,
      "metadata": {
        "id": "OmH7W9tYQaLE"
      },
      "outputs": [],
      "source": [
        "# batch\n",
        "from transformers import DataCollatorWithPadding\n",
        "\n",
        "data_collator = DataCollatorWithPadding(tokenizer=tokenizer, return_tensors=\"pt\", padding=True)"
      ]
    },
    {
      "cell_type": "code",
      "execution_count": 19,
      "metadata": {
        "id": "H8Z_32zJQaLE"
      },
      "outputs": [],
      "source": [
        "# evaluate\n",
        "import evaluate\n",
        "import numpy as np\n",
        "\n",
        "accuracy = evaluate.load(\"accuracy\")\n",
        "\n",
        "def compute_metrics(eval_pred):\n",
        "    predictions, labels = eval_pred\n",
        "    predictions = np.argmax(predictions, axis=1)\n",
        "    return accuracy.compute(predictions=predictions, references=labels)"
      ]
    },
    {
      "cell_type": "code",
      "execution_count": 20,
      "metadata": {
        "id": "Cs4d0fPkQaLE"
      },
      "outputs": [],
      "source": [
        "# labels\n",
        "id2label = {0: 'negative', 1: 'positive'}\n",
        "label2id = {'negative': 0, 'positive': 1}"
      ]
    },
    {
      "cell_type": "code",
      "execution_count": 21,
      "metadata": {
        "colab": {
          "base_uri": "https://localhost:8080/"
        },
        "id": "Yq76YyPAQaLE",
        "outputId": "ac860713-c250-460f-80db-69df999484e9"
      },
      "outputs": [
        {
          "name": "stderr",
          "output_type": "stream",
          "text": [
            "Some weights of BertForSequenceClassification were not initialized from the model checkpoint at bert-base-uncased and are newly initialized: ['classifier.bias', 'classifier.weight']\n",
            "You should probably TRAIN this model on a down-stream task to be able to use it for predictions and inference.\n"
          ]
        }
      ],
      "source": [
        "from transformers import AutoModelForSequenceClassification\n",
        "\n",
        "model = AutoModelForSequenceClassification.from_pretrained(\n",
        "    \"bert-base-uncased\",\n",
        "    num_labels=2,\n",
        "    id2label=id2label,\n",
        "    label2id=label2id\n",
        "    )"
      ]
    },
    {
      "cell_type": "code",
      "execution_count": 23,
      "metadata": {
        "id": "MhzQhS-uQaLE"
      },
      "outputs": [],
      "source": [
        "from transformers import TrainingArguments, Trainer\n",
        "\n",
        "training_args = TrainingArguments(\n",
        "    output_dir='bert_echr',          # output directory\n",
        "    learning_rate=2e-5,              # learning rate\n",
        "    num_train_epochs=2,              # total number of training epochs\n",
        "    per_device_train_batch_size=16,  # batch size per device during training\n",
        "    per_device_eval_batch_size=16,   # batch size for evaluation\n",
        "    weight_decay=0.01,               # strength of weight decay\n",
        "    logging_dir='bert_echr/logs',    # directory for storing logs\n",
        "    logging_steps=10,\n",
        "    evaluation_strategy='epoch',\n",
        "    save_strategy='epoch',\n",
        "    load_best_model_at_end=True,\n",
        ")\n",
        "\n",
        "trainer = Trainer(\n",
        "    model=model,                         # the instantiated 🤗 Transformers model to be trained\n",
        "    args=training_args,                  # training arguments, defined above\n",
        "    train_dataset=train_head_tail,         # training dataset\n",
        "    eval_dataset=dev_head_tail,            # evaluation dataset\n",
        "    compute_metrics=compute_metrics,     # the callback that computes metrics of interest\n",
        "    tokenizer=tokenizer,\n",
        "    data_collator=data_collator\n",
        ")\n"
      ]
    },
    {
      "cell_type": "markdown",
      "metadata": {},
      "source": [
        "### Train"
      ]
    },
    {
      "cell_type": "code",
      "execution_count": null,
      "metadata": {
        "colab": {
          "base_uri": "https://localhost:8080/",
          "height": 335
        },
        "id": "xCT2mRwUQaLF",
        "outputId": "9a3ad8c3-f139-4479-d03e-baca22dad061"
      },
      "outputs": [],
      "source": [
        "#trainer.train()"
      ]
    },
    {
      "cell_type": "code",
      "execution_count": null,
      "metadata": {
        "id": "R1ojFwxKdxOK"
      },
      "outputs": [],
      "source": [
        "#trainer.save_model('model-echr-bert')"
      ]
    },
    {
      "cell_type": "markdown",
      "metadata": {},
      "source": [
        "### Evaluate the model on the test set"
      ]
    },
    {
      "cell_type": "code",
      "execution_count": 4,
      "metadata": {},
      "outputs": [],
      "source": [
        "# load trained model \n",
        "from transformers import AutoModelForSequenceClassification\n",
        "model = AutoModelForSequenceClassification.from_pretrained(\"model-echr-bert\")"
      ]
    },
    {
      "cell_type": "code",
      "execution_count": 6,
      "metadata": {},
      "outputs": [],
      "source": [
        "from transformers import AutoTokenizer\n",
        "tokenizer_echr = AutoTokenizer.from_pretrained(\"model-echr-bert\")\n",
        "# tokenize function for test \n",
        "def preprocess_echr(examples):\n",
        "    return tokenizer_echr(examples[\"text\"])"
      ]
    },
    {
      "cell_type": "code",
      "execution_count": 17,
      "metadata": {
        "id": "ZN9Ixbr6jYgv"
      },
      "outputs": [
        {
          "name": "stdout",
          "output_type": "stream",
          "text": [
            "Dataset({\n",
            "    features: ['text', 'label'],\n",
            "    num_rows: 100\n",
            "})\n"
          ]
        },
        {
          "data": {
            "application/vnd.jupyter.widget-view+json": {
              "model_id": "2b1c6af3d4ed4dae9f7609129ff3e62f",
              "version_major": 2,
              "version_minor": 0
            },
            "text/plain": [
              "Map:   0%|          | 0/100 [00:00<?, ? examples/s]"
            ]
          },
          "metadata": {},
          "output_type": "display_data"
        },
        {
          "name": "stderr",
          "output_type": "stream",
          "text": [
            "Token indices sequence length is longer than the specified maximum sequence length for this model (1456 > 512). Running this sequence through the model will result in indexing errors\n"
          ]
        }
      ],
      "source": [
        "from datasets import Dataset\n",
        "# encode test dataset with trained model\n",
        "test_dataset = Dataset.from_pandas(df_test)\n",
        "print(test_dataset)\n",
        "\n",
        "test_dataset = Dataset.from_pandas(df_test)\n",
        "test_dataset_tokenized = test_dataset.map(preprocess_echr, batched=True)\n"
      ]
    },
    {
      "cell_type": "code",
      "execution_count": 20,
      "metadata": {},
      "outputs": [
        {
          "name": "stdout",
          "output_type": "stream",
          "text": [
            "446\n"
          ]
        }
      ],
      "source": [
        "test_head_tail = head_tail_tokens(test_dataset_tokenized, 250,250)\n",
        "print(test_head_tail[1]['input_ids'].__len__())"
      ]
    },
    {
      "cell_type": "code",
      "execution_count": 23,
      "metadata": {
        "id": "s2c5YgbecYfG"
      },
      "outputs": [],
      "source": [
        "import torch\n",
        "def metrics_model(dataset):\n",
        "\n",
        "  predicted_labels = []\n",
        "  labels = []\n",
        "\n",
        "  for test in dataset:\n",
        "\n",
        "    # convert to tensor\n",
        "    test['input_ids'] = torch.Tensor(test['input_ids'])\n",
        "    test['token_type_ids'] = torch.Tensor(test['token_type_ids'])\n",
        "    test['attention_mask'] = torch.Tensor(test['attention_mask'])\n",
        "\n",
        "    # reshape\n",
        "    test['input_ids'] = test['input_ids'].reshape(1,-1).to(torch.int64)\n",
        "    test['token_type_ids'] = test['token_type_ids'].reshape(1,-1).to(torch.int64)\n",
        "    test['attention_mask'] = test['attention_mask'].reshape(1,-1).to(torch.int64)\n",
        "\n",
        "    with torch.no_grad():\n",
        "      logits = model(input_ids = test['input_ids'], token_type_ids = test['token_type_ids'], attention_mask = test['attention_mask']).logits\n",
        "\n",
        "    predicted_class_id = logits.argmax().item()\n",
        "\n",
        "    predicted_labels.append(predicted_class_id)\n",
        "    labels.append(test['label'])\n",
        "  \n",
        "  return predicted_labels,labels"
      ]
    },
    {
      "cell_type": "code",
      "execution_count": 24,
      "metadata": {
        "colab": {
          "base_uri": "https://localhost:8080/",
          "height": 354
        },
        "id": "G6Lig2VLce9J",
        "outputId": "2f5b55f3-b6c3-4bad-92e9-6bc2cc50f26c"
      },
      "outputs": [],
      "source": [
        "predicted_labels,labels = metrics_model(test_head_tail)"
      ]
    },
    {
      "cell_type": "code",
      "execution_count": 25,
      "metadata": {
        "colab": {
          "base_uri": "https://localhost:8080/"
        },
        "id": "iymretN0ggQR",
        "outputId": "cc5c2f70-4a7a-438d-9038-b00b59ffbff5"
      },
      "outputs": [
        {
          "name": "stdout",
          "output_type": "stream",
          "text": [
            "              precision    recall  f1-score   support\n",
            "\n",
            "           0       0.78      0.42      0.55        50\n",
            "           1       0.60      0.88      0.72        50\n",
            "\n",
            "    accuracy                           0.65       100\n",
            "   macro avg       0.69      0.65      0.63       100\n",
            "weighted avg       0.69      0.65      0.63       100\n",
            "\n"
          ]
        }
      ],
      "source": [
        "from sklearn.metrics import classification_report\n",
        "\n",
        "print(classification_report(labels, predicted_labels))"
      ]
    }
  ],
  "metadata": {
    "accelerator": "GPU",
    "colab": {
      "provenance": []
    },
    "kernelspec": {
      "display_name": "Python 3",
      "name": "python3"
    },
    "language_info": {
      "codemirror_mode": {
        "name": "ipython",
        "version": 3
      },
      "file_extension": ".py",
      "mimetype": "text/x-python",
      "name": "python",
      "nbconvert_exporter": "python",
      "pygments_lexer": "ipython3",
      "version": "3.10.11"
    },
    "widgets": {
      "application/vnd.jupyter.widget-state+json": {
        "1c9ac71e640f49ec94e8984c0039ceae": {
          "model_module": "@jupyter-widgets/controls",
          "model_module_version": "1.5.0",
          "model_name": "ProgressStyleModel",
          "state": {
            "_model_module": "@jupyter-widgets/controls",
            "_model_module_version": "1.5.0",
            "_model_name": "ProgressStyleModel",
            "_view_count": null,
            "_view_module": "@jupyter-widgets/base",
            "_view_module_version": "1.2.0",
            "_view_name": "StyleView",
            "bar_color": null,
            "description_width": ""
          }
        },
        "200f7e6ecb624c0cb2f4156b72724d95": {
          "model_module": "@jupyter-widgets/base",
          "model_module_version": "1.2.0",
          "model_name": "LayoutModel",
          "state": {
            "_model_module": "@jupyter-widgets/base",
            "_model_module_version": "1.2.0",
            "_model_name": "LayoutModel",
            "_view_count": null,
            "_view_module": "@jupyter-widgets/base",
            "_view_module_version": "1.2.0",
            "_view_name": "LayoutView",
            "align_content": null,
            "align_items": null,
            "align_self": null,
            "border": null,
            "bottom": null,
            "display": null,
            "flex": null,
            "flex_flow": null,
            "grid_area": null,
            "grid_auto_columns": null,
            "grid_auto_flow": null,
            "grid_auto_rows": null,
            "grid_column": null,
            "grid_gap": null,
            "grid_row": null,
            "grid_template_areas": null,
            "grid_template_columns": null,
            "grid_template_rows": null,
            "height": null,
            "justify_content": null,
            "justify_items": null,
            "left": null,
            "margin": null,
            "max_height": null,
            "max_width": null,
            "min_height": null,
            "min_width": null,
            "object_fit": null,
            "object_position": null,
            "order": null,
            "overflow": null,
            "overflow_x": null,
            "overflow_y": null,
            "padding": null,
            "right": null,
            "top": null,
            "visibility": null,
            "width": null
          }
        },
        "2f2c6e1335ea423db8323b0b89b22b00": {
          "model_module": "@jupyter-widgets/controls",
          "model_module_version": "1.5.0",
          "model_name": "DescriptionStyleModel",
          "state": {
            "_model_module": "@jupyter-widgets/controls",
            "_model_module_version": "1.5.0",
            "_model_name": "DescriptionStyleModel",
            "_view_count": null,
            "_view_module": "@jupyter-widgets/base",
            "_view_module_version": "1.2.0",
            "_view_name": "StyleView",
            "description_width": ""
          }
        },
        "3a54defc5fb243e8baa0216ebf5f242b": {
          "model_module": "@jupyter-widgets/controls",
          "model_module_version": "1.5.0",
          "model_name": "DescriptionStyleModel",
          "state": {
            "_model_module": "@jupyter-widgets/controls",
            "_model_module_version": "1.5.0",
            "_model_name": "DescriptionStyleModel",
            "_view_count": null,
            "_view_module": "@jupyter-widgets/base",
            "_view_module_version": "1.2.0",
            "_view_name": "StyleView",
            "description_width": ""
          }
        },
        "3c9304ed20074bf5ac3e956bd5fae6c4": {
          "model_module": "@jupyter-widgets/controls",
          "model_module_version": "1.5.0",
          "model_name": "ProgressStyleModel",
          "state": {
            "_model_module": "@jupyter-widgets/controls",
            "_model_module_version": "1.5.0",
            "_model_name": "ProgressStyleModel",
            "_view_count": null,
            "_view_module": "@jupyter-widgets/base",
            "_view_module_version": "1.2.0",
            "_view_name": "StyleView",
            "bar_color": null,
            "description_width": ""
          }
        },
        "432b654160e64d84bb1dee6c9da4ca1a": {
          "model_module": "@jupyter-widgets/controls",
          "model_module_version": "1.5.0",
          "model_name": "FloatProgressModel",
          "state": {
            "_dom_classes": [],
            "_model_module": "@jupyter-widgets/controls",
            "_model_module_version": "1.5.0",
            "_model_name": "FloatProgressModel",
            "_view_count": null,
            "_view_module": "@jupyter-widgets/controls",
            "_view_module_version": "1.5.0",
            "_view_name": "ProgressView",
            "bar_style": "success",
            "description": "",
            "description_tooltip": null,
            "layout": "IPY_MODEL_a44a3deebf304d5e90cb8888f64bac7e",
            "max": 100,
            "min": 0,
            "orientation": "horizontal",
            "style": "IPY_MODEL_3c9304ed20074bf5ac3e956bd5fae6c4",
            "value": 100
          }
        },
        "488d00b79cf34ad7bd84fa6f491dcd9b": {
          "model_module": "@jupyter-widgets/base",
          "model_module_version": "1.2.0",
          "model_name": "LayoutModel",
          "state": {
            "_model_module": "@jupyter-widgets/base",
            "_model_module_version": "1.2.0",
            "_model_name": "LayoutModel",
            "_view_count": null,
            "_view_module": "@jupyter-widgets/base",
            "_view_module_version": "1.2.0",
            "_view_name": "LayoutView",
            "align_content": null,
            "align_items": null,
            "align_self": null,
            "border": null,
            "bottom": null,
            "display": null,
            "flex": null,
            "flex_flow": null,
            "grid_area": null,
            "grid_auto_columns": null,
            "grid_auto_flow": null,
            "grid_auto_rows": null,
            "grid_column": null,
            "grid_gap": null,
            "grid_row": null,
            "grid_template_areas": null,
            "grid_template_columns": null,
            "grid_template_rows": null,
            "height": null,
            "justify_content": null,
            "justify_items": null,
            "left": null,
            "margin": null,
            "max_height": null,
            "max_width": null,
            "min_height": null,
            "min_width": null,
            "object_fit": null,
            "object_position": null,
            "order": null,
            "overflow": null,
            "overflow_x": null,
            "overflow_y": null,
            "padding": null,
            "right": null,
            "top": null,
            "visibility": null,
            "width": null
          }
        },
        "4a6dfff73dcc4b4f86ffcf455deb3a7c": {
          "model_module": "@jupyter-widgets/base",
          "model_module_version": "1.2.0",
          "model_name": "LayoutModel",
          "state": {
            "_model_module": "@jupyter-widgets/base",
            "_model_module_version": "1.2.0",
            "_model_name": "LayoutModel",
            "_view_count": null,
            "_view_module": "@jupyter-widgets/base",
            "_view_module_version": "1.2.0",
            "_view_name": "LayoutView",
            "align_content": null,
            "align_items": null,
            "align_self": null,
            "border": null,
            "bottom": null,
            "display": null,
            "flex": null,
            "flex_flow": null,
            "grid_area": null,
            "grid_auto_columns": null,
            "grid_auto_flow": null,
            "grid_auto_rows": null,
            "grid_column": null,
            "grid_gap": null,
            "grid_row": null,
            "grid_template_areas": null,
            "grid_template_columns": null,
            "grid_template_rows": null,
            "height": null,
            "justify_content": null,
            "justify_items": null,
            "left": null,
            "margin": null,
            "max_height": null,
            "max_width": null,
            "min_height": null,
            "min_width": null,
            "object_fit": null,
            "object_position": null,
            "order": null,
            "overflow": null,
            "overflow_x": null,
            "overflow_y": null,
            "padding": null,
            "right": null,
            "top": null,
            "visibility": null,
            "width": null
          }
        },
        "4ac076ab94784eb0ad2f53bd65bee7bb": {
          "model_module": "@jupyter-widgets/controls",
          "model_module_version": "1.5.0",
          "model_name": "HTMLModel",
          "state": {
            "_dom_classes": [],
            "_model_module": "@jupyter-widgets/controls",
            "_model_module_version": "1.5.0",
            "_model_name": "HTMLModel",
            "_view_count": null,
            "_view_module": "@jupyter-widgets/controls",
            "_view_module_version": "1.5.0",
            "_view_name": "HTMLView",
            "description": "",
            "description_tooltip": null,
            "layout": "IPY_MODEL_bedcde5eb6cb4367b320b5d009cdeced",
            "placeholder": "​",
            "style": "IPY_MODEL_c8e82f9318c64271a1e2d506dbfd5661",
            "value": "Map: 100%"
          }
        },
        "5686b3f9e345485181bcf5bd6a52a22a": {
          "model_module": "@jupyter-widgets/controls",
          "model_module_version": "1.5.0",
          "model_name": "DescriptionStyleModel",
          "state": {
            "_model_module": "@jupyter-widgets/controls",
            "_model_module_version": "1.5.0",
            "_model_name": "DescriptionStyleModel",
            "_view_count": null,
            "_view_module": "@jupyter-widgets/base",
            "_view_module_version": "1.2.0",
            "_view_name": "StyleView",
            "description_width": ""
          }
        },
        "6d7dad6847584ea4b63b52ac2679e80f": {
          "model_module": "@jupyter-widgets/controls",
          "model_module_version": "1.5.0",
          "model_name": "DescriptionStyleModel",
          "state": {
            "_model_module": "@jupyter-widgets/controls",
            "_model_module_version": "1.5.0",
            "_model_name": "DescriptionStyleModel",
            "_view_count": null,
            "_view_module": "@jupyter-widgets/base",
            "_view_module_version": "1.2.0",
            "_view_name": "StyleView",
            "description_width": ""
          }
        },
        "7b291e4100084d3b94e28caa9e648044": {
          "model_module": "@jupyter-widgets/base",
          "model_module_version": "1.2.0",
          "model_name": "LayoutModel",
          "state": {
            "_model_module": "@jupyter-widgets/base",
            "_model_module_version": "1.2.0",
            "_model_name": "LayoutModel",
            "_view_count": null,
            "_view_module": "@jupyter-widgets/base",
            "_view_module_version": "1.2.0",
            "_view_name": "LayoutView",
            "align_content": null,
            "align_items": null,
            "align_self": null,
            "border": null,
            "bottom": null,
            "display": null,
            "flex": null,
            "flex_flow": null,
            "grid_area": null,
            "grid_auto_columns": null,
            "grid_auto_flow": null,
            "grid_auto_rows": null,
            "grid_column": null,
            "grid_gap": null,
            "grid_row": null,
            "grid_template_areas": null,
            "grid_template_columns": null,
            "grid_template_rows": null,
            "height": null,
            "justify_content": null,
            "justify_items": null,
            "left": null,
            "margin": null,
            "max_height": null,
            "max_width": null,
            "min_height": null,
            "min_width": null,
            "object_fit": null,
            "object_position": null,
            "order": null,
            "overflow": null,
            "overflow_x": null,
            "overflow_y": null,
            "padding": null,
            "right": null,
            "top": null,
            "visibility": null,
            "width": null
          }
        },
        "8426edcddd704b468f535d45dfe9f964": {
          "model_module": "@jupyter-widgets/base",
          "model_module_version": "1.2.0",
          "model_name": "LayoutModel",
          "state": {
            "_model_module": "@jupyter-widgets/base",
            "_model_module_version": "1.2.0",
            "_model_name": "LayoutModel",
            "_view_count": null,
            "_view_module": "@jupyter-widgets/base",
            "_view_module_version": "1.2.0",
            "_view_name": "LayoutView",
            "align_content": null,
            "align_items": null,
            "align_self": null,
            "border": null,
            "bottom": null,
            "display": null,
            "flex": null,
            "flex_flow": null,
            "grid_area": null,
            "grid_auto_columns": null,
            "grid_auto_flow": null,
            "grid_auto_rows": null,
            "grid_column": null,
            "grid_gap": null,
            "grid_row": null,
            "grid_template_areas": null,
            "grid_template_columns": null,
            "grid_template_rows": null,
            "height": null,
            "justify_content": null,
            "justify_items": null,
            "left": null,
            "margin": null,
            "max_height": null,
            "max_width": null,
            "min_height": null,
            "min_width": null,
            "object_fit": null,
            "object_position": null,
            "order": null,
            "overflow": null,
            "overflow_x": null,
            "overflow_y": null,
            "padding": null,
            "right": null,
            "top": null,
            "visibility": null,
            "width": null
          }
        },
        "85787d7a1f5349588134d0cfaab719ba": {
          "model_module": "@jupyter-widgets/controls",
          "model_module_version": "1.5.0",
          "model_name": "HTMLModel",
          "state": {
            "_dom_classes": [],
            "_model_module": "@jupyter-widgets/controls",
            "_model_module_version": "1.5.0",
            "_model_name": "HTMLModel",
            "_view_count": null,
            "_view_module": "@jupyter-widgets/controls",
            "_view_module_version": "1.5.0",
            "_view_name": "HTMLView",
            "description": "",
            "description_tooltip": null,
            "layout": "IPY_MODEL_488d00b79cf34ad7bd84fa6f491dcd9b",
            "placeholder": "​",
            "style": "IPY_MODEL_2f2c6e1335ea423db8323b0b89b22b00",
            "value": "Map: 100%"
          }
        },
        "85892c73fb8c428c94d3479271bc6322": {
          "model_module": "@jupyter-widgets/controls",
          "model_module_version": "1.5.0",
          "model_name": "HTMLModel",
          "state": {
            "_dom_classes": [],
            "_model_module": "@jupyter-widgets/controls",
            "_model_module_version": "1.5.0",
            "_model_name": "HTMLModel",
            "_view_count": null,
            "_view_module": "@jupyter-widgets/controls",
            "_view_module_version": "1.5.0",
            "_view_name": "HTMLView",
            "description": "",
            "description_tooltip": null,
            "layout": "IPY_MODEL_7b291e4100084d3b94e28caa9e648044",
            "placeholder": "​",
            "style": "IPY_MODEL_f414a5e145384bf9bdd9181515a29aed",
            "value": " 100/100 [00:01&lt;00:00, 94.57 examples/s]"
          }
        },
        "8c4338fe613c4e11b9ea717a47cf84c2": {
          "model_module": "@jupyter-widgets/base",
          "model_module_version": "1.2.0",
          "model_name": "LayoutModel",
          "state": {
            "_model_module": "@jupyter-widgets/base",
            "_model_module_version": "1.2.0",
            "_model_name": "LayoutModel",
            "_view_count": null,
            "_view_module": "@jupyter-widgets/base",
            "_view_module_version": "1.2.0",
            "_view_name": "LayoutView",
            "align_content": null,
            "align_items": null,
            "align_self": null,
            "border": null,
            "bottom": null,
            "display": null,
            "flex": null,
            "flex_flow": null,
            "grid_area": null,
            "grid_auto_columns": null,
            "grid_auto_flow": null,
            "grid_auto_rows": null,
            "grid_column": null,
            "grid_gap": null,
            "grid_row": null,
            "grid_template_areas": null,
            "grid_template_columns": null,
            "grid_template_rows": null,
            "height": null,
            "justify_content": null,
            "justify_items": null,
            "left": null,
            "margin": null,
            "max_height": null,
            "max_width": null,
            "min_height": null,
            "min_width": null,
            "object_fit": null,
            "object_position": null,
            "order": null,
            "overflow": null,
            "overflow_x": null,
            "overflow_y": null,
            "padding": null,
            "right": null,
            "top": null,
            "visibility": null,
            "width": null
          }
        },
        "910daa87434f4e35b991c013b4922dab": {
          "model_module": "@jupyter-widgets/controls",
          "model_module_version": "1.5.0",
          "model_name": "HBoxModel",
          "state": {
            "_dom_classes": [],
            "_model_module": "@jupyter-widgets/controls",
            "_model_module_version": "1.5.0",
            "_model_name": "HBoxModel",
            "_view_count": null,
            "_view_module": "@jupyter-widgets/controls",
            "_view_module_version": "1.5.0",
            "_view_name": "HBoxView",
            "box_style": "",
            "children": [
              "IPY_MODEL_4ac076ab94784eb0ad2f53bd65bee7bb",
              "IPY_MODEL_d7f45785767b4ff39a4b6191bd9f2b7a",
              "IPY_MODEL_ebf25b484c82435faccb567c3f9281e4"
            ],
            "layout": "IPY_MODEL_e8eb96a0e775448385ae6007cd06dc88"
          }
        },
        "929f19c2ef7a48e7a01fce2fa6ac855d": {
          "model_module": "@jupyter-widgets/base",
          "model_module_version": "1.2.0",
          "model_name": "LayoutModel",
          "state": {
            "_model_module": "@jupyter-widgets/base",
            "_model_module_version": "1.2.0",
            "_model_name": "LayoutModel",
            "_view_count": null,
            "_view_module": "@jupyter-widgets/base",
            "_view_module_version": "1.2.0",
            "_view_name": "LayoutView",
            "align_content": null,
            "align_items": null,
            "align_self": null,
            "border": null,
            "bottom": null,
            "display": null,
            "flex": null,
            "flex_flow": null,
            "grid_area": null,
            "grid_auto_columns": null,
            "grid_auto_flow": null,
            "grid_auto_rows": null,
            "grid_column": null,
            "grid_gap": null,
            "grid_row": null,
            "grid_template_areas": null,
            "grid_template_columns": null,
            "grid_template_rows": null,
            "height": null,
            "justify_content": null,
            "justify_items": null,
            "left": null,
            "margin": null,
            "max_height": null,
            "max_width": null,
            "min_height": null,
            "min_width": null,
            "object_fit": null,
            "object_position": null,
            "order": null,
            "overflow": null,
            "overflow_x": null,
            "overflow_y": null,
            "padding": null,
            "right": null,
            "top": null,
            "visibility": null,
            "width": null
          }
        },
        "a44a3deebf304d5e90cb8888f64bac7e": {
          "model_module": "@jupyter-widgets/base",
          "model_module_version": "1.2.0",
          "model_name": "LayoutModel",
          "state": {
            "_model_module": "@jupyter-widgets/base",
            "_model_module_version": "1.2.0",
            "_model_name": "LayoutModel",
            "_view_count": null,
            "_view_module": "@jupyter-widgets/base",
            "_view_module_version": "1.2.0",
            "_view_name": "LayoutView",
            "align_content": null,
            "align_items": null,
            "align_self": null,
            "border": null,
            "bottom": null,
            "display": null,
            "flex": null,
            "flex_flow": null,
            "grid_area": null,
            "grid_auto_columns": null,
            "grid_auto_flow": null,
            "grid_auto_rows": null,
            "grid_column": null,
            "grid_gap": null,
            "grid_row": null,
            "grid_template_areas": null,
            "grid_template_columns": null,
            "grid_template_rows": null,
            "height": null,
            "justify_content": null,
            "justify_items": null,
            "left": null,
            "margin": null,
            "max_height": null,
            "max_width": null,
            "min_height": null,
            "min_width": null,
            "object_fit": null,
            "object_position": null,
            "order": null,
            "overflow": null,
            "overflow_x": null,
            "overflow_y": null,
            "padding": null,
            "right": null,
            "top": null,
            "visibility": null,
            "width": null
          }
        },
        "a513ec76e63f4efebcc2257075a325f5": {
          "model_module": "@jupyter-widgets/base",
          "model_module_version": "1.2.0",
          "model_name": "LayoutModel",
          "state": {
            "_model_module": "@jupyter-widgets/base",
            "_model_module_version": "1.2.0",
            "_model_name": "LayoutModel",
            "_view_count": null,
            "_view_module": "@jupyter-widgets/base",
            "_view_module_version": "1.2.0",
            "_view_name": "LayoutView",
            "align_content": null,
            "align_items": null,
            "align_self": null,
            "border": null,
            "bottom": null,
            "display": null,
            "flex": null,
            "flex_flow": null,
            "grid_area": null,
            "grid_auto_columns": null,
            "grid_auto_flow": null,
            "grid_auto_rows": null,
            "grid_column": null,
            "grid_gap": null,
            "grid_row": null,
            "grid_template_areas": null,
            "grid_template_columns": null,
            "grid_template_rows": null,
            "height": null,
            "justify_content": null,
            "justify_items": null,
            "left": null,
            "margin": null,
            "max_height": null,
            "max_width": null,
            "min_height": null,
            "min_width": null,
            "object_fit": null,
            "object_position": null,
            "order": null,
            "overflow": null,
            "overflow_x": null,
            "overflow_y": null,
            "padding": null,
            "right": null,
            "top": null,
            "visibility": null,
            "width": null
          }
        },
        "a7023ff2936146a5b61dbe0cf627a5af": {
          "model_module": "@jupyter-widgets/base",
          "model_module_version": "1.2.0",
          "model_name": "LayoutModel",
          "state": {
            "_model_module": "@jupyter-widgets/base",
            "_model_module_version": "1.2.0",
            "_model_name": "LayoutModel",
            "_view_count": null,
            "_view_module": "@jupyter-widgets/base",
            "_view_module_version": "1.2.0",
            "_view_name": "LayoutView",
            "align_content": null,
            "align_items": null,
            "align_self": null,
            "border": null,
            "bottom": null,
            "display": null,
            "flex": null,
            "flex_flow": null,
            "grid_area": null,
            "grid_auto_columns": null,
            "grid_auto_flow": null,
            "grid_auto_rows": null,
            "grid_column": null,
            "grid_gap": null,
            "grid_row": null,
            "grid_template_areas": null,
            "grid_template_columns": null,
            "grid_template_rows": null,
            "height": null,
            "justify_content": null,
            "justify_items": null,
            "left": null,
            "margin": null,
            "max_height": null,
            "max_width": null,
            "min_height": null,
            "min_width": null,
            "object_fit": null,
            "object_position": null,
            "order": null,
            "overflow": null,
            "overflow_x": null,
            "overflow_y": null,
            "padding": null,
            "right": null,
            "top": null,
            "visibility": null,
            "width": null
          }
        },
        "b0b74ae8099d44efb8ad786737410f3e": {
          "model_module": "@jupyter-widgets/controls",
          "model_module_version": "1.5.0",
          "model_name": "HTMLModel",
          "state": {
            "_dom_classes": [],
            "_model_module": "@jupyter-widgets/controls",
            "_model_module_version": "1.5.0",
            "_model_name": "HTMLModel",
            "_view_count": null,
            "_view_module": "@jupyter-widgets/controls",
            "_view_module_version": "1.5.0",
            "_view_name": "HTMLView",
            "description": "",
            "description_tooltip": null,
            "layout": "IPY_MODEL_8426edcddd704b468f535d45dfe9f964",
            "placeholder": "​",
            "style": "IPY_MODEL_6d7dad6847584ea4b63b52ac2679e80f",
            "value": " 100/100 [00:00&lt;00:00, 103.19 examples/s]"
          }
        },
        "b1379a0ce8de4135b9701bf4af3c052c": {
          "model_module": "@jupyter-widgets/controls",
          "model_module_version": "1.5.0",
          "model_name": "ProgressStyleModel",
          "state": {
            "_model_module": "@jupyter-widgets/controls",
            "_model_module_version": "1.5.0",
            "_model_name": "ProgressStyleModel",
            "_view_count": null,
            "_view_module": "@jupyter-widgets/base",
            "_view_module_version": "1.2.0",
            "_view_name": "StyleView",
            "bar_color": null,
            "description_width": ""
          }
        },
        "b4f6f573f5a541dd896bce43cbecbd49": {
          "model_module": "@jupyter-widgets/controls",
          "model_module_version": "1.5.0",
          "model_name": "FloatProgressModel",
          "state": {
            "_dom_classes": [],
            "_model_module": "@jupyter-widgets/controls",
            "_model_module_version": "1.5.0",
            "_model_name": "FloatProgressModel",
            "_view_count": null,
            "_view_module": "@jupyter-widgets/controls",
            "_view_module_version": "1.5.0",
            "_view_name": "ProgressView",
            "bar_style": "success",
            "description": "",
            "description_tooltip": null,
            "layout": "IPY_MODEL_929f19c2ef7a48e7a01fce2fa6ac855d",
            "max": 100,
            "min": 0,
            "orientation": "horizontal",
            "style": "IPY_MODEL_1c9ac71e640f49ec94e8984c0039ceae",
            "value": 100
          }
        },
        "bcd12f2b1236443ea0b00cc3ea405198": {
          "model_module": "@jupyter-widgets/controls",
          "model_module_version": "1.5.0",
          "model_name": "HBoxModel",
          "state": {
            "_dom_classes": [],
            "_model_module": "@jupyter-widgets/controls",
            "_model_module_version": "1.5.0",
            "_model_name": "HBoxModel",
            "_view_count": null,
            "_view_module": "@jupyter-widgets/controls",
            "_view_module_version": "1.5.0",
            "_view_name": "HBoxView",
            "box_style": "",
            "children": [
              "IPY_MODEL_dababab53c04410998f5d2036f26595b",
              "IPY_MODEL_432b654160e64d84bb1dee6c9da4ca1a",
              "IPY_MODEL_b0b74ae8099d44efb8ad786737410f3e"
            ],
            "layout": "IPY_MODEL_a7023ff2936146a5b61dbe0cf627a5af"
          }
        },
        "bedcde5eb6cb4367b320b5d009cdeced": {
          "model_module": "@jupyter-widgets/base",
          "model_module_version": "1.2.0",
          "model_name": "LayoutModel",
          "state": {
            "_model_module": "@jupyter-widgets/base",
            "_model_module_version": "1.2.0",
            "_model_name": "LayoutModel",
            "_view_count": null,
            "_view_module": "@jupyter-widgets/base",
            "_view_module_version": "1.2.0",
            "_view_name": "LayoutView",
            "align_content": null,
            "align_items": null,
            "align_self": null,
            "border": null,
            "bottom": null,
            "display": null,
            "flex": null,
            "flex_flow": null,
            "grid_area": null,
            "grid_auto_columns": null,
            "grid_auto_flow": null,
            "grid_auto_rows": null,
            "grid_column": null,
            "grid_gap": null,
            "grid_row": null,
            "grid_template_areas": null,
            "grid_template_columns": null,
            "grid_template_rows": null,
            "height": null,
            "justify_content": null,
            "justify_items": null,
            "left": null,
            "margin": null,
            "max_height": null,
            "max_width": null,
            "min_height": null,
            "min_width": null,
            "object_fit": null,
            "object_position": null,
            "order": null,
            "overflow": null,
            "overflow_x": null,
            "overflow_y": null,
            "padding": null,
            "right": null,
            "top": null,
            "visibility": null,
            "width": null
          }
        },
        "c8e82f9318c64271a1e2d506dbfd5661": {
          "model_module": "@jupyter-widgets/controls",
          "model_module_version": "1.5.0",
          "model_name": "DescriptionStyleModel",
          "state": {
            "_model_module": "@jupyter-widgets/controls",
            "_model_module_version": "1.5.0",
            "_model_name": "DescriptionStyleModel",
            "_view_count": null,
            "_view_module": "@jupyter-widgets/base",
            "_view_module_version": "1.2.0",
            "_view_name": "StyleView",
            "description_width": ""
          }
        },
        "d7a125eb47c446f4814ac3eb31e17e4a": {
          "model_module": "@jupyter-widgets/controls",
          "model_module_version": "1.5.0",
          "model_name": "HBoxModel",
          "state": {
            "_dom_classes": [],
            "_model_module": "@jupyter-widgets/controls",
            "_model_module_version": "1.5.0",
            "_model_name": "HBoxModel",
            "_view_count": null,
            "_view_module": "@jupyter-widgets/controls",
            "_view_module_version": "1.5.0",
            "_view_name": "HBoxView",
            "box_style": "",
            "children": [
              "IPY_MODEL_85787d7a1f5349588134d0cfaab719ba",
              "IPY_MODEL_b4f6f573f5a541dd896bce43cbecbd49",
              "IPY_MODEL_85892c73fb8c428c94d3479271bc6322"
            ],
            "layout": "IPY_MODEL_a513ec76e63f4efebcc2257075a325f5"
          }
        },
        "d7f45785767b4ff39a4b6191bd9f2b7a": {
          "model_module": "@jupyter-widgets/controls",
          "model_module_version": "1.5.0",
          "model_name": "FloatProgressModel",
          "state": {
            "_dom_classes": [],
            "_model_module": "@jupyter-widgets/controls",
            "_model_module_version": "1.5.0",
            "_model_name": "FloatProgressModel",
            "_view_count": null,
            "_view_module": "@jupyter-widgets/controls",
            "_view_module_version": "1.5.0",
            "_view_name": "ProgressView",
            "bar_style": "success",
            "description": "",
            "description_tooltip": null,
            "layout": "IPY_MODEL_4a6dfff73dcc4b4f86ffcf455deb3a7c",
            "max": 100,
            "min": 0,
            "orientation": "horizontal",
            "style": "IPY_MODEL_b1379a0ce8de4135b9701bf4af3c052c",
            "value": 100
          }
        },
        "dababab53c04410998f5d2036f26595b": {
          "model_module": "@jupyter-widgets/controls",
          "model_module_version": "1.5.0",
          "model_name": "HTMLModel",
          "state": {
            "_dom_classes": [],
            "_model_module": "@jupyter-widgets/controls",
            "_model_module_version": "1.5.0",
            "_model_name": "HTMLModel",
            "_view_count": null,
            "_view_module": "@jupyter-widgets/controls",
            "_view_module_version": "1.5.0",
            "_view_name": "HTMLView",
            "description": "",
            "description_tooltip": null,
            "layout": "IPY_MODEL_8c4338fe613c4e11b9ea717a47cf84c2",
            "placeholder": "​",
            "style": "IPY_MODEL_3a54defc5fb243e8baa0216ebf5f242b",
            "value": "Map: 100%"
          }
        },
        "e8eb96a0e775448385ae6007cd06dc88": {
          "model_module": "@jupyter-widgets/base",
          "model_module_version": "1.2.0",
          "model_name": "LayoutModel",
          "state": {
            "_model_module": "@jupyter-widgets/base",
            "_model_module_version": "1.2.0",
            "_model_name": "LayoutModel",
            "_view_count": null,
            "_view_module": "@jupyter-widgets/base",
            "_view_module_version": "1.2.0",
            "_view_name": "LayoutView",
            "align_content": null,
            "align_items": null,
            "align_self": null,
            "border": null,
            "bottom": null,
            "display": null,
            "flex": null,
            "flex_flow": null,
            "grid_area": null,
            "grid_auto_columns": null,
            "grid_auto_flow": null,
            "grid_auto_rows": null,
            "grid_column": null,
            "grid_gap": null,
            "grid_row": null,
            "grid_template_areas": null,
            "grid_template_columns": null,
            "grid_template_rows": null,
            "height": null,
            "justify_content": null,
            "justify_items": null,
            "left": null,
            "margin": null,
            "max_height": null,
            "max_width": null,
            "min_height": null,
            "min_width": null,
            "object_fit": null,
            "object_position": null,
            "order": null,
            "overflow": null,
            "overflow_x": null,
            "overflow_y": null,
            "padding": null,
            "right": null,
            "top": null,
            "visibility": null,
            "width": null
          }
        },
        "ebf25b484c82435faccb567c3f9281e4": {
          "model_module": "@jupyter-widgets/controls",
          "model_module_version": "1.5.0",
          "model_name": "HTMLModel",
          "state": {
            "_dom_classes": [],
            "_model_module": "@jupyter-widgets/controls",
            "_model_module_version": "1.5.0",
            "_model_name": "HTMLModel",
            "_view_count": null,
            "_view_module": "@jupyter-widgets/controls",
            "_view_module_version": "1.5.0",
            "_view_name": "HTMLView",
            "description": "",
            "description_tooltip": null,
            "layout": "IPY_MODEL_200f7e6ecb624c0cb2f4156b72724d95",
            "placeholder": "​",
            "style": "IPY_MODEL_5686b3f9e345485181bcf5bd6a52a22a",
            "value": " 100/100 [00:01&lt;00:00, 53.60 examples/s]"
          }
        },
        "f414a5e145384bf9bdd9181515a29aed": {
          "model_module": "@jupyter-widgets/controls",
          "model_module_version": "1.5.0",
          "model_name": "DescriptionStyleModel",
          "state": {
            "_model_module": "@jupyter-widgets/controls",
            "_model_module_version": "1.5.0",
            "_model_name": "DescriptionStyleModel",
            "_view_count": null,
            "_view_module": "@jupyter-widgets/base",
            "_view_module_version": "1.2.0",
            "_view_name": "StyleView",
            "description_width": ""
          }
        }
      }
    }
  },
  "nbformat": 4,
  "nbformat_minor": 0
}
