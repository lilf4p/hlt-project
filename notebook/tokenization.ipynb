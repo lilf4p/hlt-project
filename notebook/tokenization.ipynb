{
 "cells": [
  {
   "cell_type": "code",
   "execution_count": 1,
   "outputs": [],
   "source": [
    "import numpy as np\n",
    "import torch\n",
    "import torch.nn as nn\n",
    "import transformers\n",
    "import pandas as pd\n",
    "import os\n",
    "import json\n"
   ],
   "metadata": {
    "collapsed": false
   }
  },
  {
   "cell_type": "code",
   "execution_count": 2,
   "outputs": [],
   "source": [
    "def load_ECHR(path:str, anon:bool=False):\n",
    "\n",
    "    \"\"\"Load ECHR dataset from json to pandas dataframe\n",
    "\n",
    "    Args:\n",
    "        path (str): path to ECHR dataset\n",
    "        anon (bool, optional): if True, load anonymized dataset. Defaults to False.\n",
    "\n",
    "        Returns:\n",
    "            df_train (pd.DataFrame): train dataset\n",
    "            df_dev (pd.DataFrame): dev dataset\n",
    "            df_test (pd.DataFrame): test dataset\n",
    "\n",
    "    \"\"\"\n",
    "\n",
    "    # load train, dev and test dataset from json to pandas dataframe\n",
    "    sfx = '_Anon' if anon else ''\n",
    "\n",
    "    # define dataframe empty\n",
    "    df_train = pd.DataFrame()\n",
    "    df_dev = pd.DataFrame()\n",
    "    df_test = pd.DataFrame()\n",
    "\n",
    "    # train dataset\n",
    "    train_path = path+'/EN_train'+sfx+'/'\n",
    "    # for all the files in a directory\n",
    "    for filename in os.listdir(train_path):\n",
    "        with open(train_path+filename) as f:\n",
    "            # add json to dataframe as a row\n",
    "            data = json.load(f)\n",
    "            df = pd.DataFrame.from_dict(data, orient='index').T\n",
    "            df_train = df_train._append(df, ignore_index=True)\n",
    "\n",
    "    # dev dataset\n",
    "    dev_path = path+'/EN_dev'+sfx+'/'\n",
    "    # for all the files in a directory\n",
    "    for filename in os.listdir(dev_path):\n",
    "        with open(dev_path+filename) as f:\n",
    "            # add json to dataframe as a row\n",
    "            data = json.load(f)\n",
    "            df = pd.DataFrame.from_dict(data, orient='index').T\n",
    "            df_dev = df_dev._append(df, ignore_index=True)\n",
    "\n",
    "    # test dataset\n",
    "    test_path = path+'/EN_test'+sfx+'/'\n",
    "    # for all the files in a directory\n",
    "    for filename in os.listdir(test_path):\n",
    "        with open(test_path+filename) as f:\n",
    "            # add json to dataframe as a row\n",
    "            data = json.load(f)\n",
    "            df = pd.DataFrame.from_dict(data, orient='index').T\n",
    "            df_test = df_test._append(df, ignore_index=True)\n",
    "\n",
    "    # add a column with 0/1 labels to the dataframe 0 if VIOLATED_ARTICLE is empty, 1 otherwise\n",
    "    df_train['LABEL'] = df_train['VIOLATED_ARTICLES'].apply(lambda x: 0 if x == [] else 1)\n",
    "    df_dev['LABEL'] = df_dev['VIOLATED_ARTICLES'].apply(lambda x: 0 if x == [] else 1)\n",
    "    df_test['LABEL'] = df_test['VIOLATED_ARTICLES'].apply(lambda x: 0 if x == [] else 1)\n",
    "\n",
    "    # change name TEXT to text and LABEL to label\n",
    "    df_train.rename(columns={'TEXT': 'text', 'LABEL': 'label'}, inplace=True)\n",
    "    df_dev.rename(columns={'TEXT': 'text', 'LABEL': 'label'}, inplace=True)\n",
    "    df_test.rename(columns={'TEXT': 'text', 'LABEL': 'label'}, inplace=True)\n",
    "\n",
    "\n",
    "\n",
    "    # return train, dev and test dataset\n",
    "    return df_train, df_dev, df_test"
   ],
   "metadata": {
    "collapsed": false
   }
  },
  {
   "cell_type": "code",
   "execution_count": 3,
   "outputs": [],
   "source": [
    "df_train, df_dev, df_test = load_ECHR('../hlt-project/ECHR_Dataset', anon=False)"
   ],
   "metadata": {
    "collapsed": false
   }
  },
  {
   "cell_type": "code",
   "execution_count": 5,
   "outputs": [
    {
     "name": "stdout",
     "output_type": "stream",
     "text": [
      "<class 'pandas.core.frame.DataFrame'>\n",
      "RangeIndex: 7100 entries, 0 to 7099\n",
      "Data columns (total 17 columns):\n",
      " #   Column                     Non-Null Count  Dtype \n",
      "---  ------                     --------------  ----- \n",
      " 0   ITEMID                     7100 non-null   object\n",
      " 1   LANGUAGEISOCODE            7100 non-null   object\n",
      " 2   RESPONDENT                 7100 non-null   object\n",
      " 3   BRANCH                     7100 non-null   object\n",
      " 4   DATE                       7100 non-null   object\n",
      " 5   DOCNAME                    7100 non-null   object\n",
      " 6   IMPORTANCE                 7100 non-null   object\n",
      " 7   CONCLUSION                 7100 non-null   object\n",
      " 8   JUDGES                     7100 non-null   object\n",
      " 9   text                       7100 non-null   object\n",
      " 10  VIOLATED_ARTICLES          7100 non-null   object\n",
      " 11  VIOLATED_PARAGRAPHS        7100 non-null   object\n",
      " 12  VIOLATED_BULLETPOINTS      7100 non-null   object\n",
      " 13  NON_VIOLATED_ARTICLES      7100 non-null   object\n",
      " 14  NON_VIOLATED_PARAGRAPHS    7100 non-null   object\n",
      " 15  NON_VIOLATED_BULLETPOINTS  7100 non-null   object\n",
      " 16  label                      7100 non-null   int64 \n",
      "dtypes: int64(1), object(16)\n",
      "memory usage: 943.1+ KB\n"
     ]
    }
   ],
   "source": [
    "df_train.info()"
   ],
   "metadata": {
    "collapsed": false
   }
  },
  {
   "cell_type": "markdown",
   "source": [
    "# Tokenization"
   ],
   "metadata": {
    "collapsed": false
   }
  },
  {
   "cell_type": "code",
   "execution_count": 9,
   "outputs": [],
   "source": [
    "def tokenize_document(document, tokenizer, max_length=512):\n",
    "    '''\n",
    "        Tokenize a document using the provided tokenizer\n",
    "        input:\n",
    "            document: iterable, document to be tokenized. Every element of the iterable is a sentence\n",
    "            tokenizer: transformers tokenizer\n",
    "            max_length: int, maximum length of the tokenized document\n",
    "    '''\n",
    "    # tokenize the document in chunks of max_length\n",
    "    tokenized_document = []\n",
    "    for sentence in document:\n",
    "        tokenized_sentence = tokenizer.encode_plus(sentence, add_special_tokens=True, max_length=max_length, pad_to_max_length=False, return_tensors='pt', return_attention_mask=True).input_ids\n",
    "        # if the tokenized doc is not empty, try to add the sentence to the last tokenized sentence\n",
    "        if tokenized_document:\n",
    "            if tokenized_document[-1].size()[1] + tokenized_sentence.size()[1] <= max_length:\n",
    "                tokenized_document[-1] = torch.cat((tokenized_document[-1], tokenized_sentence[0:,1:]), dim=1)\n",
    "            else:\n",
    "                tokenized_document.append(tokenized_sentence)\n",
    "        else:\n",
    "            tokenized_document.append(tokenized_sentence)\n",
    "    # now we add attention_masks and token_type_ids\n",
    "    # pad every sentence to max_length\n",
    "    for i, sentence in enumerate(tokenized_document):\n",
    "        tokenized_document[i] = torch.cat((sentence, torch.zeros((1, max_length - sentence.size()[1]), dtype=torch.long)), dim=1)\n",
    "    return tokenized_document"
   ],
   "metadata": {
    "collapsed": false
   }
  },
  {
   "cell_type": "code",
   "execution_count": 41,
   "outputs": [
    {
     "data": {
      "text/plain": "True"
     },
     "execution_count": 41,
     "metadata": {},
     "output_type": "execute_result"
    }
   ],
   "source": [
    "tokenizer = transformers.AutoTokenizer.from_pretrained('bert-base-uncased')\n",
    "tokenizer.is_fast"
   ],
   "metadata": {
    "collapsed": false
   }
  },
  {
   "cell_type": "code",
   "execution_count": 48,
   "outputs": [],
   "source": [
    "\n",
    "documents = df_train['text'][0:-1]"
   ],
   "metadata": {
    "collapsed": false
   }
  },
  {
   "cell_type": "code",
   "execution_count": 49,
   "outputs": [],
   "source": [
    "tokenized_docs=[]\n",
    "for document in documents:\n",
    "    tokenized_docs.append( tokenize_document(document, tokenizer) )\n"
   ],
   "metadata": {
    "collapsed": false
   }
  },
  {
   "cell_type": "code",
   "execution_count": 57,
   "outputs": [
    {
     "data": {
      "text/plain": "104"
     },
     "execution_count": 57,
     "metadata": {},
     "output_type": "execute_result"
    }
   ],
   "source": [
    "#max nuubmer of sentences in a document\n",
    "max_len=0\n",
    "for doc in tokenized_docs:\n",
    "    if len(doc)>max_len:\n",
    "        max_len=len(doc)\n",
    "        i=tokenized_docs.index(doc)\n",
    "max_len"
   ],
   "metadata": {
    "collapsed": false
   }
  },
  {
   "cell_type": "code",
   "execution_count": 71,
   "outputs": [],
   "source": [
    "tokenized_docs.append(\n",
    "    tokenize_document(df_train['text'][7099], tokenizer)\n",
    ")"
   ],
   "metadata": {
    "collapsed": false
   }
  },
  {
   "cell_type": "code",
   "execution_count": 72,
   "outputs": [
    {
     "data": {
      "text/plain": "7100"
     },
     "execution_count": 72,
     "metadata": {},
     "output_type": "execute_result"
    }
   ],
   "source": [
    "len(tokenized_docs)"
   ],
   "metadata": {
    "collapsed": false
   }
  },
  {
   "cell_type": "code",
   "execution_count": 73,
   "outputs": [],
   "source": [
    "df_train['tokenized_text'] = tokenized_docs"
   ],
   "metadata": {
    "collapsed": false
   }
  },
  {
   "cell_type": "code",
   "execution_count": 149,
   "outputs": [
    {
     "data": {
      "text/plain": "<Figure size 640x480 with 1 Axes>",
      "image/png": "[encoded data removed]"
     },
     "metadata": {},
     "output_type": "display_data"
    }
   ],
   "source": [
    "# histogram of number of tokens per doc\n",
    "# 1 count the number of tokens in each doc\n",
    "# 2 plot the histogram\n",
    "#1\n",
    "len_docs=[]\n",
    "for doc in tokenized_docs:\n",
    "    len_doc=0\n",
    "    for sentence in doc:\n",
    "        # count the non zero elements\n",
    "        len_doc+=len(sentence[sentence!=0])\n",
    "    len_docs.append(len_doc)\n",
    "#2\n",
    "import matplotlib.pyplot as plt\n",
    "len_docs=np.array(len_docs)\n",
    "plt.hist(len_docs, bins=30, range=(0, 10000))\n",
    "plt.show()\n",
    "\n"
   ],
   "metadata": {
    "collapsed": false
   }
  },
  {
   "cell_type": "code",
   "execution_count": 87,
   "outputs": [
    {
     "data": {
      "text/plain": "<Figure size 640x480 with 1 Axes>",
      "image/png": "[encoded data removed]"
     },
     "metadata": {},
     "output_type": "display_data"
    }
   ],
   "source": [
    "# box plot\n",
    "plt.boxplot(len_docs)\n",
    "plt.show()"
   ],
   "metadata": {
    "collapsed": false
   }
  },
  {
   "cell_type": "markdown",
   "source": [
    "# Do The same for the dev and test set"
   ],
   "metadata": {
    "collapsed": false
   }
  },
  {
   "cell_type": "code",
   "execution_count": 94,
   "outputs": [],
   "source": [
    "documents = df_dev['text'][0:]\n",
    "\n",
    "tokenized_docs=[]\n",
    "for document in documents:\n",
    "    tokenized_docs.append( tokenize_document(document, tokenizer) )\n",
    "df_dev['tokenized_text'] = tokenized_docs"
   ],
   "metadata": {
    "collapsed": false
   }
  },
  {
   "cell_type": "code",
   "execution_count": 95,
   "outputs": [],
   "source": [
    "documents = df_test['text'][0:]\n",
    "tokenized_docs=[]\n",
    "for document in documents:\n",
    "    tokenized_docs.append( tokenize_document(document, tokenizer) )\n",
    "df_test['tokenized_text'] = tokenized_docs"
   ],
   "metadata": {
    "collapsed": false
   }
  },
  {
   "cell_type": "code",
   "execution_count": 96,
   "outputs": [],
   "source": [
    "# save the tokenized datasets\n",
    "df_train.to_pickle('df_train_tokenized.pkl')\n",
    "df_dev.to_pickle('df_dev_tokenized.pkl')\n",
    "df_test.to_pickle('df_test_tokenized.pkl')"
   ],
   "metadata": {
    "collapsed": false
   }
  },
  {
   "cell_type": "code",
   "execution_count": 113,
   "outputs": [],
   "source": [
    "# load the tokenized datasets\n",
    "df_train = pd.read_pickle('df_train_tokenized.pkl')\n",
    "df_dev = pd.read_pickle('df_dev_tokenized.pkl')\n",
    "df_test = pd.read_pickle('df_test_tokenized.pkl')"
   ],
   "metadata": {
    "collapsed": false
   }
  },
  {
   "cell_type": "code",
   "execution_count": 114,
   "outputs": [
    {
     "name": "stderr",
     "output_type": "stream",
     "text": [
      "7100it [00:05, 1333.74it/s]\n"
     ]
    }
   ],
   "source": [
    "# add attention masks\n",
    "from tqdm import tqdm\n",
    "for i, doc in tqdm(enumerate(df_train['tokenized_text'])):\n",
    "    for j, sentence in enumerate(doc):\n",
    "        attention_mask = torch.zeros_like(sentence)\n",
    "        attention_mask[sentence!=0] = 1\n",
    "        df_train['tokenized_text'][i][j] = (sentence, attention_mask)\n",
    "df_train['input_ids'] = df_train['tokenized_text'].apply(lambda x: [sentence[0] for sentence in x])\n",
    "df_train['attention_mask'] = df_train['tokenized_text'].apply(lambda x: [sentence[1] for sentence in x])\n",
    "#delete tokenized_text\n",
    "df_train.drop(columns=['tokenized_text'], inplace=True)"
   ],
   "metadata": {
    "collapsed": false
   }
  },
  {
   "cell_type": "code",
   "execution_count": 119,
   "outputs": [
    {
     "name": "stderr",
     "output_type": "stream",
     "text": [
      "1380it [00:00, 1837.92it/s]\n"
     ]
    }
   ],
   "source": [
    "# same for dev and test\n",
    "# add attention masks\n",
    "from tqdm import tqdm\n",
    "for i, doc in tqdm(enumerate(df_dev['tokenized_text'])):\n",
    "    for j, sentence in enumerate(doc):\n",
    "        attention_mask = torch.zeros_like(sentence)\n",
    "        attention_mask[sentence!=0] = 1\n",
    "        df_dev['tokenized_text'][i][j] = (sentence, attention_mask)\n",
    "df_dev['input_ids'] = df_dev['tokenized_text'].apply(lambda x: [sentence[0] for sentence in x])\n",
    "df_dev['attention_mask'] = df_dev['tokenized_text'].apply(lambda x: [sentence[1] for sentence in x])\n",
    "df_dev.drop(columns=['tokenized_text'], inplace=True)"
   ],
   "metadata": {
    "collapsed": false
   }
  },
  {
   "cell_type": "code",
   "execution_count": 122,
   "outputs": [
    {
     "name": "stderr",
     "output_type": "stream",
     "text": [
      "2998it [00:01, 2200.48it/s]\n"
     ]
    }
   ],
   "source": [
    "# same for test\n",
    "# add attention masks\n",
    "from tqdm import tqdm\n",
    "for i, doc in tqdm(enumerate(df_test['tokenized_text'])):\n",
    "    for j, sentence in enumerate(doc):\n",
    "        attention_mask = torch.zeros_like(sentence)\n",
    "        attention_mask[sentence!=0] = 1\n",
    "        df_test['tokenized_text'][i][j] = (sentence, attention_mask)\n",
    "df_test['input_ids'] = df_test['tokenized_text'].apply(lambda x: [sentence[0] for sentence in x])\n",
    "df_test['attention_mask'] = df_test['tokenized_text'].apply(lambda x: [sentence[1] for sentence in x])\n",
    "df_test.drop(columns=['tokenized_text'], inplace=True)"
   ],
   "metadata": {
    "collapsed": false
   }
  },
  {
   "cell_type": "code",
   "execution_count": 123,
   "outputs": [],
   "source": [
    "# save the tokenized datasets\n",
    "df_train.to_pickle('df_train_tokenized.pkl')\n",
    "df_dev.to_pickle('df_dev_tokenized.pkl')\n",
    "df_test.to_pickle('df_test_tokenized.pkl')"
   ],
   "metadata": {
    "collapsed": false
   }
  },
  {
   "cell_type": "code",
   "execution_count": 125,
   "outputs": [],
   "source": [
    "bert= transformers.BertModel.from_pretrained('bert-base-uncased')"
   ],
   "metadata": {
    "collapsed": false
   }
  },
  {
   "cell_type": "code",
   "execution_count": 126,
   "outputs": [],
   "source": [
    "# check the output of the bert model\n",
    "output = bert(input_ids=df_train['input_ids'][0][0], attention_mask=df_train['attention_mask'][0][0])"
   ],
   "metadata": {
    "collapsed": false
   }
  },
  {
   "cell_type": "code",
   "execution_count": 129,
   "outputs": [
    {
     "data": {
      "text/plain": "torch.Size([1, 512, 768])"
     },
     "execution_count": 129,
     "metadata": {},
     "output_type": "execute_result"
    }
   ],
   "source": [
    "output['last_hidden_state'].shape"
   ],
   "metadata": {
    "collapsed": false
   }
  }
 ],
 "metadata": {
  "kernelspec": {
   "display_name": "Python 3",
   "language": "python",
   "name": "python3"
  },
  "language_info": {
   "codemirror_mode": {
    "name": "ipython",
    "version": 2
   },
   "file_extension": ".py",
   "mimetype": "text/x-python",
   "name": "python",
   "nbconvert_exporter": "python",
   "pygments_lexer": "ipython2",
   "version": "2.7.6"
  }
 },
 "nbformat": 4,
 "nbformat_minor": 0
}
