{
 "cells": [
  {
   "cell_type": "code",
   "execution_count": 1,
   "metadata": {},
   "outputs": [],
   "source": [
    "# imports\n",
    "import numpy as np\n",
    "import transformers\n",
    "import torch\n",
    "import pandas as pd\n",
    "from transformers import Trainer, TrainingArguments\n",
    "from sklearn.metrics import precision_recall_fscore_support, accuracy_score\n",
    "\n"
   ]
  },
  {
   "cell_type": "code",
   "execution_count": null,
   "metadata": {},
   "outputs": [],
   "source": [
    "# load longformer\n",
    "model_name =\"bert-base-uncased\"  # 'allenai/longformer-base-4096'\n",
    "from transformers import AutoModelForSequenceClassification, LongformerModel, LongformerTokenizer\n",
    "tokenizer = LongformerTokenizer.from_pretrained(model_name)\n",
    "model = AutoModelForSequenceClassification.from_pretrained(model_name, num_labels=2)\n"
   ]
  },
  {
   "cell_type": "code",
   "execution_count": null,
   "metadata": {},
   "outputs": [],
   "source": [
    "tokenizer = transformers.AutoTokenizer.from_pretrained(model_name)\n",
    "tokenizer.is_fast "
   ]
  },
  {
   "cell_type": "code",
   "execution_count": null,
   "metadata": {},
   "outputs": [],
   "source": [
    "df_train= pd.read_csv('../ECHR_Dataset/train.csv')\n",
    "df_test= pd.read_csv('../ECHR_Dataset/test.csv')         \n",
    "df_dev= pd.read_csv('../ECHR_Dataset/dev.csv')\n",
    "\n",
    "\n",
    "df_train = df_train[['text','label']]\n",
    "df_test = df_test[['text','label']]\n",
    "df_dev = df_dev[['text','label']]\n",
    "\n",
    "# convert to huggingface dataset    \n",
    "from datasets import Dataset\n",
    "train_dataset = Dataset.from_pandas(df_train)\n",
    "dev_dataset = Dataset.from_pandas(df_dev)\n",
    "test_dataset = Dataset.from_pandas(df_test)\n",
    "print(train_dataset)"
   ]
  },
  {
   "cell_type": "code",
   "execution_count": null,
   "metadata": {},
   "outputs": [],
   "source": [
    "tokenize = True\n",
    "if tokenize:\n",
    "    # encode text\n",
    "    def encode_text(examples):\n",
    "        return tokenizer(examples['text'], padding=\"max_length\", truncation=True)\n",
    "\n",
    "    train_dataset_tokenized = train_dataset.map(encode_text, batched=True)\n",
    "    dev_dataset_tokenized = dev_dataset.map(encode_text, batched=True)\n",
    "    test_dataset_tokenized = test_dataset.map(encode_text, batched=True)\n",
    "\n",
    " \n",
    "    # save tokenized dataset\n",
    "    train_dataset_tokenized.save_to_disk(f'../ECHR_Dataset_Tokenized/{model_name}/train')\n",
    "    dev_dataset_tokenized.save_to_disk(f'../ECHR_Dataset_Tokenized/{model_name}/dev')\n",
    "    test_dataset_tokenized.save_to_disk(f'../ECHR_Dataset_Tokenized/{model_name}/test')\n",
    "else:\n",
    "    # load tokenized dataset\n",
    "    train_dataset_tokenized = Dataset.load_from_disk(f'../ECHR_Dataset_Tokenized/{model_name}/train')\n",
    "    dev_dataset_tokenized = Dataset.load_from_disk(f'../ECHR_Dataset_Tokenized/{model_name}/dev')\n",
    "    test_dataset_tokenized = Dataset.load_from_disk(f'../ECHR_Dataset_Tokenized/{model_name}/test')\n",
    "#keep only the input_ids, mask and label\n",
    "\n",
    "\n"
   ]
  },
  {
   "cell_type": "code",
   "execution_count": null,
   "metadata": {},
   "outputs": [],
   "source": [
    "# trainer\n",
    "\n",
    "path ='../'+ + 'models/'+ model_name\n",
    "\n",
    "def compute_metrics(pred):\n",
    "    labels = pred.label_ids\n",
    "    preds = pred.predictions.argmax(-1)\n",
    "    precision, recall, f1, _ = precision_recall_fscore_support(labels, preds, average='binary')\n",
    "    acc = accuracy_score(labels, preds)\n",
    "    return {\n",
    "        'accuracy': acc,\n",
    "        'f1': f1,\n",
    "        'precision': precision,\n",
    "        'recall': recall\n",
    "    }\n",
    "\n",
    "\n",
    "training_args = TrainingArguments(\n",
    "    output_dir=path,                 # output directory\n",
    "    learning_rate=3e-6,              # learning rate\n",
    "    num_train_epochs=4,              # total number of training epochs\n",
    "    per_device_train_batch_size=12,  # batch size per device during training\n",
    "    per_device_eval_batch_size=12,   # batch size for evaluation\n",
    "    weight_decay=0.01,               # strength of weight decay\n",
    "    logging_dir=path+'/log',         # directory for storing logs\n",
    "    evaluation_strategy='steps',\n",
    "    save_strategy='steps',\n",
    "    eval_steps=100,\n",
    "    save_steps=100,\n",
    "    logging_steps=100,\n",
    "    save_total_limit=2,\n",
    "    load_best_model_at_end=True,\n",
    "    metric_for_best_model = 'eval_loss',\n",
    "    seed = 42\n",
    ")\n",
    "\n",
    "data_collator = transformers.DataCollatorWithPadding(tokenizer=tokenizer)\n",
    "\n",
    "trainer = Trainer(\n",
    "    model=model,                         # the instantiated 🤗 Transformers model to be trained\n",
    "    args=training_args,                  # training arguments, defined above\n",
    "    train_dataset=train_dataset_tokenized,         # training dataset\n",
    "    eval_dataset =dev_dataset_tokenized,             # evaluation dataset\n",
    "    compute_metrics=compute_metrics,\n",
    "    data_collator=data_collator,\n",
    "    tokenizer=tokenizer\n",
    ")\n",
    "\n",
    "trainer.train()\n",
    "\n"
   ]
  },
  {
   "cell_type": "code",
   "execution_count": null,
   "metadata": {},
   "outputs": [],
   "source": [
    "# eval on test set\n",
    "# eval_results = trainer.evaluate(test_dataset_tokenized)\n",
    "# print(f\"test set: {eval_results}\")"
   ]
  }
 ],
 "metadata": {
  "kernelspec": {
   "display_name": "Python 3",
   "language": "python",
   "name": "python3"
  },
  "language_info": {
   "codemirror_mode": {
    "name": "ipython",
    "version": 3
   },
   "file_extension": ".py",
   "mimetype": "text/x-python",
   "name": "python",
   "nbconvert_exporter": "python",
   "pygments_lexer": "ipython3",
   "version": "3.10.8"
  }
 },
 "nbformat": 4,
 "nbformat_minor": 2
}
