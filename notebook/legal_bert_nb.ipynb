{
 "cells": [
  {
   "cell_type": "code",
   "execution_count": 1,
   "metadata": {
    "tags": []
   },
   "outputs": [],
   "source": [
    "import torch\n",
    "import torch.nn as nn\n",
    "from transformers import BertModel, BertTokenizer\n",
    "import pandas as pd"
   ]
  },
  {
   "cell_type": "code",
   "execution_count": 2,
   "metadata": {
    "tags": []
   },
   "outputs": [],
   "source": [
    "# load tokenized data\n",
    "path_dev ='../ECHR_Dataset_Tokenized/legal-bert-base-uncased/df_dev_tokenized.pkl'\n",
    "path_train ='../ECHR_Dataset_Tokenized/legal-bert-base-uncased/df_train_tokenized.pkl'\n",
    "path_test ='../ECHR_Dataset_Tokenized/legal-bert-base-uncased/df_test_tokenized.pkl'\n",
    "\n",
    "df_train = pd.read_pickle(path_train)\n",
    "df_dev = pd.read_pickle(path_dev)\n",
    "df_test = pd.read_pickle(path_test)"
   ]
  },
  {
   "cell_type": "code",
   "execution_count": 3,
   "metadata": {
    "tags": []
   },
   "outputs": [],
   "source": [
    "documents = df_train[['input_ids', 'attention_mask', 'label']]\n",
    "documents_dev = df_dev[['input_ids', 'attention_mask', 'label']]\n",
    "documents_test = df_test[['input_ids', 'attention_mask', 'label']]\n"
   ]
  },
  {
   "cell_type": "code",
   "execution_count": 4,
   "metadata": {
    "tags": []
   },
   "outputs": [],
   "source": [
    "# convert the series into a list\n",
    "input_ids = documents.input_ids.tolist()\n",
    "attention_mask = documents.attention_mask.tolist()\n",
    "labels = documents.label.tolist()\n",
    "\n",
    "input_ids_dev = documents_dev.input_ids.tolist()\n",
    "attention_mask_dev = documents_dev.attention_mask.tolist()\n",
    "labels_dev = documents_dev.label.tolist()\n",
    "\n",
    "input_ids_test = documents_test.input_ids.tolist()\n",
    "attention_mask_test = documents_test.attention_mask.tolist()\n",
    "labels_test = documents_test.label.tolist()\n"
   ]
  },
  {
   "cell_type": "code",
   "execution_count": 5,
   "metadata": {
    "tags": []
   },
   "outputs": [],
   "source": [
    "input_ids = [torch.stack(i) for i in input_ids]\n",
    "attention_mask = [torch.stack(i) for i in attention_mask]\n",
    "\n",
    "input_ids_dev = [torch.stack(i) for i in input_ids_dev]\n",
    "attention_mask_dev = [torch.stack(i) for i in attention_mask_dev]\n",
    "\n",
    "input_ids_test = [torch.stack(i) for i in input_ids_test]\n",
    "attention_mask_test = [torch.stack(i) for i in attention_mask_test]\n"
   ]
  },
  {
   "cell_type": "code",
   "execution_count": 6,
   "metadata": {
    "tags": []
   },
   "outputs": [],
   "source": [
    "input_ids =[torch.squeeze(i, dim=1) for i in input_ids]\n",
    "attention_mask =[torch.squeeze(i, dim=1) for i in attention_mask]\n",
    "\n",
    "input_ids_dev =[torch.squeeze(i, dim=1) for i in input_ids_dev]\n",
    "attention_mask_dev =[torch.squeeze(i, dim=1) for i in attention_mask_dev]\n",
    "\n",
    "input_ids_test =[torch.squeeze(i, dim=1) for i in input_ids_test]\n",
    "attention_mask_test =[torch.squeeze(i, dim=1) for i in attention_mask_test]"
   ]
  },
  {
   "cell_type": "code",
   "execution_count": 7,
   "metadata": {
    "tags": []
   },
   "outputs": [],
   "source": [
    "lengths =[i.size(0) for i in input_ids]\n",
    "\n",
    "lengths_dev =[i.size(0) for i in input_ids_dev]\n",
    "\n",
    "lengths_test =[i.size(0) for i in input_ids_test]"
   ]
  },
  {
   "cell_type": "code",
   "execution_count": 8,
   "metadata": {
    "tags": []
   },
   "outputs": [],
   "source": [
    "def collate_fn(data, max_chunks=3):\n",
    "    input_ids = [i[0] for i in data]\n",
    "    attention_mask = [i[1] for i in data]\n",
    "    labels = [i[2] for i in data]\n",
    "    lengths = [i[3] for i in data]\n",
    "\n",
    "\n",
    "    labels = torch.tensor(labels)\n",
    "    lengths = torch.tensor(lengths)\n",
    "    max_length = torch.max(lengths)\n",
    "    max_length = torch.min(max_length, max_chunks * torch.ones_like(max_length))\n",
    "    # truncate input_ids and attention_mask to max_length\n",
    "    input_ids = [i[:max_length] for i in input_ids]\n",
    "    attention_mask = [i[:max_length] for i in attention_mask]\n",
    "    lengths = torch.min(lengths, max_chunks*torch.ones_like(lengths))\n",
    "    # pad the input_ids and attention_mask so that they have the same length [max_length, 512]\n",
    "    for i in range(len(input_ids)):\n",
    "        pad = torch.zeros((max_length - lengths[i],512), dtype=torch.long)\n",
    "        input_ids[i] = torch.cat((input_ids[i], pad), dim=0, )\n",
    "        attention_mask[i] = torch.cat((attention_mask[i], pad), dim=0)\n",
    "\n",
    "    return torch.stack(input_ids), torch.stack(attention_mask), labels, lengths\n"
   ]
  },
  {
   "cell_type": "code",
   "execution_count": null,
   "metadata": {},
   "outputs": [],
   "source": []
  },
  {
   "cell_type": "code",
   "execution_count": 9,
   "metadata": {
    "tags": []
   },
   "outputs": [],
   "source": [
    "class ECHRDataset(torch.utils.data.Dataset):\n",
    "    def __init__(self, input_ids, attention_mask, labels):\n",
    "        self.input_ids = input_ids\n",
    "        self.attention_mask = attention_mask\n",
    "        self.labels = labels\n",
    "\n",
    "    def __len__(self):\n",
    "        return len(self.input_ids)\n",
    "\n",
    "    def __getitem__(self, idx):\n",
    "        return self.input_ids[idx], self.attention_mask[idx], self.labels[idx], self.input_ids[idx].size(0) # last one is the length of the input_ids, used for padding"
   ]
  },
  {
   "cell_type": "code",
   "execution_count": 10,
   "metadata": {
    "tags": []
   },
   "outputs": [
    {
     "name": "stdout",
     "output_type": "stream",
     "text": [
      "7100\n"
     ]
    }
   ],
   "source": [
    "# create a dataset\n",
    "dataset = ECHRDataset(input_ids, attention_mask, labels)\n",
    "eval_dataset = ECHRDataset(input_ids_dev, attention_mask_dev, labels_dev)\n",
    "test_dataset = ECHRDataset(input_ids_test, attention_mask_test, labels_test)\n",
    "# number of samples\n",
    "print(len(dataset))"
   ]
  },
  {
   "cell_type": "code",
   "execution_count": 11,
   "metadata": {
    "tags": []
   },
   "outputs": [],
   "source": [
    "# make a subset of the dataset\n",
    "import torch.utils\n",
    "\n",
    "collate_fn_10 = lambda x: collate_fn(x, 4)\n",
    "\n",
    "dataloader = torch.utils.data.DataLoader(dataset, batch_size=3, shuffle=True, collate_fn=collate_fn_10)\n",
    "eval_dataloader = torch.utils.data.DataLoader(eval_dataset, batch_size=16, shuffle=True, collate_fn=collate_fn_10)"
   ]
  },
  {
   "cell_type": "code",
   "execution_count": 12,
   "metadata": {
    "tags": []
   },
   "outputs": [
    {
     "name": "stdout",
     "output_type": "stream",
     "text": [
      "torch.Size([16, 4, 512]) torch.Size([16, 4, 512]) torch.Size([16]) torch.Size([16])\n"
     ]
    }
   ],
   "source": [
    "x=next(iter(eval_dataloader))\n",
    "print(x[0].shape, x[1].shape, x[2].shape, x[3].shape)"
   ]
  },
  {
   "cell_type": "code",
   "execution_count": 13,
   "metadata": {
    "tags": []
   },
   "outputs": [],
   "source": [
    "model_name = 'prajjwal1/bert-small'\n",
    "tokenizer = BertTokenizer.from_pretrained(model_name)\n",
    "class BertAttentionClassifier(nn.Module):\n",
    "    def __init__(self, num_chunks, max_length, bert_model_name='nlpaueb/legal-bert-base-uncased'):\n",
    "        super(BertAttentionClassifier, self).__init__()\n",
    "        self.num_chunks = num_chunks\n",
    "        self.max_length = max_length\n",
    "        \n",
    "        # Load pre-trained BERT model and tokenizer\n",
    "        self.bert = BertModel.from_pretrained(bert_model_name)\n",
    "        \n",
    "        # Attention layer\n",
    "        self.attention = nn.MultiheadAttention(embed_dim=self.bert.config.hidden_size, num_heads=1)\n",
    "        self.relu=nn.ReLU()\n",
    "        # Linear layer for classification\n",
    "        self.fc = nn.Linear(self.bert.config.hidden_size, 1)\n",
    "        \n",
    "    def forward(self, input_ids, attention_mask):\n",
    "        # Tokenize and encode each text chunk using BERT tokenizer\n",
    "        \n",
    "        # Extract BERT outputs (last hidden states)\n",
    "        \n",
    "        bert_outputs = [self.bert( ids, mask).pooler_output\n",
    "                            for (ids, mask)  in zip(input_ids, attention_mask)]\n",
    "    \n",
    "        # Stack BERT outputs along the sequence dimension\n",
    "        stacked_outputs = torch.stack(bert_outputs, dim=1)  # shape: (batch_size, num_chunks, hidden_size)\n",
    "\n",
    "        # Apply attention across all BERT outputs\n",
    "        attention_output, _ = self.attention(stacked_outputs,  # (num_chunks, batch_size, hidden_size)\n",
    "                                             stacked_outputs,  # (num_chunks, batch_size, hidden_size)\n",
    "                                             stacked_outputs)  # (num_chunks, batch_size, hidden_size)\n",
    "        attention_output = self.relu(attention_output)\n",
    "        # Average pooling over the sequence dimension (num_chunks)\n",
    "        pooled_output = attention_output.mean(dim=0)  # (batch_size, max_length, hidden_size)\n",
    "\n",
    "        # Apply linear layer for classification\n",
    "        logits = self.fc(pooled_output)  # (batch_size, 1)\n",
    "        \n",
    "        # Squeeze logits to remove extra dimension\n",
    "        logits = logits.squeeze(dim=-1)  # (batch_size, max_length)\n",
    "        \n",
    "        return logits\n",
    "\n",
    "\n"
   ]
  },
  {
   "cell_type": "code",
   "execution_count": null,
   "metadata": {
    "tags": []
   },
   "outputs": [
    {
     "name": "stderr",
     "output_type": "stream",
     "text": [
      "Epoch 0:  37%|███▋      | 881/2367 [15:00<25:18,  1.02s/it, loss=0.45055959927220485, accuracy=0.8108210367007189]\n"
     ]
    },
    {
     "ename": "KeyboardInterrupt",
     "evalue": "",
     "output_type": "error",
     "traceback": [
      "\u001b[0;31m---------------------------------------------------------------------------\u001b[0m",
      "\u001b[0;31mKeyboardInterrupt\u001b[0m                         Traceback (most recent call last)",
      "\u001b[0;32m/tmp/ipykernel_5635/3629954213.py\u001b[0m in \u001b[0;36m<cell line: 9>\u001b[0;34m()\u001b[0m\n\u001b[1;32m     16\u001b[0m         \u001b[0mlogits\u001b[0m \u001b[0;34m=\u001b[0m \u001b[0mmodel\u001b[0m\u001b[0;34m(\u001b[0m\u001b[0minput_ids_batch\u001b[0m\u001b[0;34m.\u001b[0m\u001b[0mto\u001b[0m\u001b[0;34m(\u001b[0m\u001b[0;34m'cuda'\u001b[0m\u001b[0;34m)\u001b[0m\u001b[0;34m,\u001b[0m \u001b[0mattention_mask_batch\u001b[0m\u001b[0;34m.\u001b[0m\u001b[0mto\u001b[0m\u001b[0;34m(\u001b[0m\u001b[0;34m'cuda'\u001b[0m\u001b[0;34m)\u001b[0m\u001b[0;34m)\u001b[0m\u001b[0;34m\u001b[0m\u001b[0;34m\u001b[0m\u001b[0m\n\u001b[1;32m     17\u001b[0m         \u001b[0mloss\u001b[0m \u001b[0;34m=\u001b[0m \u001b[0mcriterion\u001b[0m\u001b[0;34m(\u001b[0m\u001b[0mlogits\u001b[0m\u001b[0;34m,\u001b[0m \u001b[0mlabels_batch\u001b[0m\u001b[0;34m.\u001b[0m\u001b[0mfloat\u001b[0m\u001b[0;34m(\u001b[0m\u001b[0;34m)\u001b[0m\u001b[0;34m.\u001b[0m\u001b[0mto\u001b[0m\u001b[0;34m(\u001b[0m\u001b[0;34m'cuda'\u001b[0m\u001b[0;34m)\u001b[0m\u001b[0;34m)\u001b[0m\u001b[0;34m\u001b[0m\u001b[0;34m\u001b[0m\u001b[0m\n\u001b[0;32m---> 18\u001b[0;31m         \u001b[0mloss\u001b[0m\u001b[0;34m.\u001b[0m\u001b[0mbackward\u001b[0m\u001b[0;34m(\u001b[0m\u001b[0;34m)\u001b[0m\u001b[0;34m\u001b[0m\u001b[0;34m\u001b[0m\u001b[0m\n\u001b[0m\u001b[1;32m     19\u001b[0m \u001b[0;34m\u001b[0m\u001b[0m\n\u001b[1;32m     20\u001b[0m         \u001b[0moptimizer\u001b[0m\u001b[0;34m.\u001b[0m\u001b[0mstep\u001b[0m\u001b[0;34m(\u001b[0m\u001b[0;34m)\u001b[0m\u001b[0;34m\u001b[0m\u001b[0;34m\u001b[0m\u001b[0m\n",
      "\u001b[0;32m~/.conda/envs/default/lib/python3.9/site-packages/torch/_tensor.py\u001b[0m in \u001b[0;36mbackward\u001b[0;34m(self, gradient, retain_graph, create_graph, inputs)\u001b[0m\n\u001b[1;32m    520\u001b[0m                 \u001b[0minputs\u001b[0m\u001b[0;34m=\u001b[0m\u001b[0minputs\u001b[0m\u001b[0;34m,\u001b[0m\u001b[0;34m\u001b[0m\u001b[0;34m\u001b[0m\u001b[0m\n\u001b[1;32m    521\u001b[0m             )\n\u001b[0;32m--> 522\u001b[0;31m         torch.autograd.backward(\n\u001b[0m\u001b[1;32m    523\u001b[0m             \u001b[0mself\u001b[0m\u001b[0;34m,\u001b[0m \u001b[0mgradient\u001b[0m\u001b[0;34m,\u001b[0m \u001b[0mretain_graph\u001b[0m\u001b[0;34m,\u001b[0m \u001b[0mcreate_graph\u001b[0m\u001b[0;34m,\u001b[0m \u001b[0minputs\u001b[0m\u001b[0;34m=\u001b[0m\u001b[0minputs\u001b[0m\u001b[0;34m\u001b[0m\u001b[0;34m\u001b[0m\u001b[0m\n\u001b[1;32m    524\u001b[0m         )\n",
      "\u001b[0;32m~/.conda/envs/default/lib/python3.9/site-packages/torch/autograd/__init__.py\u001b[0m in \u001b[0;36mbackward\u001b[0;34m(tensors, grad_tensors, retain_graph, create_graph, grad_variables, inputs)\u001b[0m\n\u001b[1;32m    264\u001b[0m     \u001b[0;31m# some Python versions print out the first line of a multi-line function\u001b[0m\u001b[0;34m\u001b[0m\u001b[0;34m\u001b[0m\u001b[0m\n\u001b[1;32m    265\u001b[0m     \u001b[0;31m# calls in the traceback and some print out the last line\u001b[0m\u001b[0;34m\u001b[0m\u001b[0;34m\u001b[0m\u001b[0m\n\u001b[0;32m--> 266\u001b[0;31m     Variable._execution_engine.run_backward(  # Calls into the C++ engine to run the backward pass\n\u001b[0m\u001b[1;32m    267\u001b[0m         \u001b[0mtensors\u001b[0m\u001b[0;34m,\u001b[0m\u001b[0;34m\u001b[0m\u001b[0;34m\u001b[0m\u001b[0m\n\u001b[1;32m    268\u001b[0m         \u001b[0mgrad_tensors_\u001b[0m\u001b[0;34m,\u001b[0m\u001b[0;34m\u001b[0m\u001b[0;34m\u001b[0m\u001b[0m\n",
      "\u001b[0;31mKeyboardInterrupt\u001b[0m: "
     ]
    }
   ],
   "source": [
    "# train the model\n",
    "from tqdm import tqdm\n",
    "model = BertAttentionClassifier(num_chunks=3, max_length=10, bert_model_name='nlpaueb/legal-bert-base-uncased')\n",
    "model.to('cuda')\n",
    "criterion = nn.BCEWithLogitsLoss()\n",
    "optimizer = torch.optim.Adam(model.parameters(), lr=3e-6)\n",
    "num_epochs=2\n",
    "for epoch in range(num_epochs):\n",
    "    model.train()\n",
    "    total_loss = 0\n",
    "    total_samples = 0\n",
    "    correct_samples = 0\n",
    "    train_bar = tqdm(dataloader)\n",
    "    for i, (input_ids_batch, attention_mask_batch, labels_batch, lengths_batch) in enumerate(train_bar):\n",
    "        optimizer.zero_grad()\n",
    "        logits = model(input_ids_batch.to('cuda'), attention_mask_batch.to('cuda'))\n",
    "        loss = criterion(logits, labels_batch.float().to('cuda'))\n",
    "        loss.backward()\n",
    "       \n",
    "        optimizer.step()\n",
    "        train_bar.set_description(f'Epoch {epoch}')\n",
    "        total_loss += loss.item() *  len(labels_batch)\n",
    "        total_samples += len(labels_batch)\n",
    "       \n",
    "\n",
    "        # compute the accuracy\n",
    "        predictions = (logits > 0).long()\n",
    "        correct_samples += (predictions == labels_batch.to('cuda')).sum().item()\n",
    "        accuracy = correct_samples / total_samples\n",
    "        average_loss = total_loss / total_samples\n",
    "        train_bar.set_postfix({'loss': f'{average_loss}',  'accuracy': f'{accuracy}'})\n",
    "\n",
    "    # evaluate the model\n",
    "    model.eval()\n",
    "    total_loss = 0\n",
    "    total_samples = 0\n",
    "    correct_samples = 0\n",
    "    with torch.no_grad():\n",
    "        for input_ids, attention_mask, labels, lengths in eval_dataloader:\n",
    "            # compute the model output\n",
    "            logits = model(input_ids.to('cuda'), attention_mask.to('cuda'))\n",
    "            # compute the loss\n",
    "            loss = criterion(logits, labels.float().to('cuda'))\n",
    "            total_loss += loss.item()\n",
    "            total_samples += len(labels)\n",
    "            # compute the accuracy\n",
    "            predictions = (logits > 0).long()\n",
    "            correct_samples += (predictions == labels.to('cuda')).sum().item()\n",
    "    accuracy = correct_samples / total_samples\n",
    "    average_loss = total_loss / len(eval_dataloader)\n",
    "    print(f'Accuracy: {accuracy}, Average Loss: {average_loss}', f'corretti: {correct_samples}')"
   ]
  },
  {
   "cell_type": "code",
   "execution_count": null,
   "metadata": {},
   "outputs": [],
   "source": [
    "    torch.save({\n",
    "            'model_state_dict': model.state_dict(),\n",
    "            'optimizer_state_dict': optimizer.state_dict(),\n",
    "            'train_loss_history': loss_history,\n",
    "            }, PATH)"
   ]
  },
  {
   "cell_type": "code",
   "execution_count": null,
   "metadata": {
    "tags": []
   },
   "outputs": [],
   "source": [
    "model=model.to('cpu')\n",
    "model.save_state_dict('../hier_legal_bert')"
   ]
  },
  {
   "cell_type": "code",
   "execution_count": 81,
   "metadata": {
    "tags": []
   },
   "outputs": [
    {
     "ename": "KeyboardInterrupt",
     "evalue": "",
     "output_type": "error",
     "traceback": [
      "\u001b[0;31m---------------------------------------------------------------------------\u001b[0m",
      "\u001b[0;31mKeyboardInterrupt\u001b[0m                         Traceback (most recent call last)",
      "\u001b[0;32m/tmp/ipykernel_890/909153272.py\u001b[0m in \u001b[0;36m<cell line: 6>\u001b[0;34m()\u001b[0m\n\u001b[1;32m      9\u001b[0m         \u001b[0mlogits\u001b[0m \u001b[0;34m=\u001b[0m \u001b[0mmodel\u001b[0m\u001b[0;34m(\u001b[0m\u001b[0minput_ids\u001b[0m\u001b[0;34m.\u001b[0m\u001b[0mto\u001b[0m\u001b[0;34m(\u001b[0m\u001b[0;34m'cuda'\u001b[0m\u001b[0;34m)\u001b[0m\u001b[0;34m,\u001b[0m \u001b[0mattention_mask\u001b[0m\u001b[0;34m.\u001b[0m\u001b[0mto\u001b[0m\u001b[0;34m(\u001b[0m\u001b[0;34m'cuda'\u001b[0m\u001b[0;34m)\u001b[0m\u001b[0;34m)\u001b[0m\u001b[0;34m\u001b[0m\u001b[0;34m\u001b[0m\u001b[0m\n\u001b[1;32m     10\u001b[0m         \u001b[0;31m# compute the loss\u001b[0m\u001b[0;34m\u001b[0m\u001b[0;34m\u001b[0m\u001b[0m\n\u001b[0;32m---> 11\u001b[0;31m         \u001b[0mloss\u001b[0m \u001b[0;34m=\u001b[0m \u001b[0mcriterion\u001b[0m\u001b[0;34m(\u001b[0m\u001b[0mlogits\u001b[0m\u001b[0;34m,\u001b[0m \u001b[0mlabels\u001b[0m\u001b[0;34m.\u001b[0m\u001b[0mfloat\u001b[0m\u001b[0;34m(\u001b[0m\u001b[0;34m)\u001b[0m\u001b[0;34m.\u001b[0m\u001b[0mto\u001b[0m\u001b[0;34m(\u001b[0m\u001b[0;34m'cuda'\u001b[0m\u001b[0;34m)\u001b[0m\u001b[0;34m)\u001b[0m\u001b[0;34m\u001b[0m\u001b[0;34m\u001b[0m\u001b[0m\n\u001b[0m\u001b[1;32m     12\u001b[0m         \u001b[0mtotal_loss\u001b[0m \u001b[0;34m+=\u001b[0m \u001b[0mloss\u001b[0m\u001b[0;34m.\u001b[0m\u001b[0mitem\u001b[0m\u001b[0;34m(\u001b[0m\u001b[0;34m)\u001b[0m\u001b[0;34m\u001b[0m\u001b[0;34m\u001b[0m\u001b[0m\n\u001b[1;32m     13\u001b[0m         \u001b[0mtotal_samples\u001b[0m \u001b[0;34m+=\u001b[0m \u001b[0mlen\u001b[0m\u001b[0;34m(\u001b[0m\u001b[0mlabels\u001b[0m\u001b[0;34m)\u001b[0m\u001b[0;34m\u001b[0m\u001b[0;34m\u001b[0m\u001b[0m\n",
      "\u001b[0;31mKeyboardInterrupt\u001b[0m: "
     ]
    }
   ],
   "source": [
    "# evaluate the model\n",
    "model.eval()\n",
    "total_loss = 0\n",
    "total_samples = 0\n",
    "correct_samples = 0\n",
    "with torch.no_grad():\n",
    "    for input_ids, attention_mask, labels, lengths in eval_dataloader:\n",
    "        # compute the model output\n",
    "        logits = model(input_ids.to('cuda'), attention_mask.to('cuda'))\n",
    "        # compute the loss\n",
    "        loss = criterion(logits, labels.float().to('cuda'))\n",
    "        total_loss += loss.item()\n",
    "        total_samples += len(labels)\n",
    "        # compute the accuracy\n",
    "        predictions = (logits > 0).long()\n",
    "        correct_samples += (predictions == labels.to('cuda')).sum().item()\n",
    "accuracy = correct_samples / total_samples\n",
    "average_loss = total_loss / len(eval_dataloader)\n",
    "print(f'Accuracy: {accuracy}, Average Loss: {average_loss}', f'corretti {correct_samples}')"
   ]
  },
  {
   "cell_type": "code",
   "execution_count": null,
   "metadata": {},
   "outputs": [],
   "source": []
  }
 ],
 "metadata": {
  "kernelspec": {
   "display_name": "default:Python",
   "language": "python",
   "name": "conda-env-default-py"
  },
  "language_info": {
   "codemirror_mode": {
    "name": "ipython",
    "version": 3
   },
   "file_extension": ".py",
   "mimetype": "text/x-python",
   "name": "python",
   "nbconvert_exporter": "python",
   "pygments_lexer": "ipython3",
   "version": "3.9.16"
  }
 },
 "nbformat": 4,
 "nbformat_minor": 4
}
