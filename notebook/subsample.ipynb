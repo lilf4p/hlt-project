{
 "cells": [
  {
   "cell_type": "markdown",
   "metadata": {},
   "source": [
    "### Create subsample of dataset"
   ]
  },
  {
   "cell_type": "code",
   "execution_count": 5,
   "metadata": {},
   "outputs": [],
   "source": [
    "from src.utils import subsampling, load_ECHR\n",
    "import pandas as pd\n",
    "\n",
    "df_train, df_dev, df_test = load_ECHR(path='ECHR_Dataset')\n",
    "\n",
    "train_values = df_train['TEXT'].values\n",
    "dev_values = df_dev['TEXT'].values\n",
    "test_values = df_test['TEXT'].values\n",
    "\n",
    "df_train['TEXT'] = [\" \".join(x) for x in train_values]\n",
    "df_dev['TEXT'] = [\" \".join(x) for x in dev_values]\n",
    "df_test['TEXT'] = [\" \".join(x) for x in test_values]\n",
    "\n",
    "df_train_sub = subsampling(df_train)\n",
    "df_dev_sub = subsampling(df_dev)\n",
    "df_test_sub = subsampling(df_test)"
   ]
  },
  {
   "cell_type": "code",
   "execution_count": 9,
   "metadata": {},
   "outputs": [
    {
     "data": {
      "text/plain": [
       "(200, 17)"
      ]
     },
     "execution_count": 9,
     "metadata": {},
     "output_type": "execute_result"
    }
   ],
   "source": [
    "df_train_sub.shape\n",
    "df_dev_sub.shape\n",
    "df_test_sub.shape"
   ]
  },
  {
   "cell_type": "code",
   "execution_count": 10,
   "metadata": {},
   "outputs": [],
   "source": [
    "# save to file csv the dataframes of the subsamples\n",
    "df_train_sub.to_csv('ECHR_Dataset_Sub/EN_test_sub.csv')\n",
    "df_dev_sub.to_csv('ECHR_Dataset_Sub/EN_train_sub.csv')\n",
    "df_test_sub.to_csv('ECHR_Dataset_Sub/EN_dev_sub.csv')"
   ]
  }
 ],
 "metadata": {
  "kernelspec": {
   "display_name": "Python 3",
   "language": "python",
   "name": "python3"
  },
  "language_info": {
   "codemirror_mode": {
    "name": "ipython",
    "version": 3
   },
   "file_extension": ".py",
   "mimetype": "text/x-python",
   "name": "python",
   "nbconvert_exporter": "python",
   "pygments_lexer": "ipython3",
   "version": "3.10.11"
  },
  "orig_nbformat": 4
 },
 "nbformat": 4,
 "nbformat_minor": 2
}
