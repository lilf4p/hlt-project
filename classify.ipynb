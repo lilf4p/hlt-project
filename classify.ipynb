{
 "cells": [
  {
   "cell_type": "code",
   "execution_count": 2,
   "metadata": {},
   "outputs": [],
   "source": [
    "from utils import load_ECHR\n",
    "import pandas as pd\n",
    "\n",
    "# load train, dev and test dataset from json to pandas dataframe\n",
    "df_train, df_dev, df_test = load_ECHR()"
   ]
  },
  {
   "cell_type": "code",
   "execution_count": 9,
   "metadata": {},
   "outputs": [
    {
     "name": "stdout",
     "output_type": "stream",
     "text": [
      "     VIOLATED_ARTICLES  labels\n",
      "2548           [13, 6]       1\n",
      "530            [13, 6]       1\n",
      "6515                []       0\n",
      "3218               [8]       1\n",
      "5220                []       0\n",
      "5584              [10]       1\n",
      "560                 []       0\n",
      "3020                []       0\n",
      "6172               [6]       1\n",
      "4277                []       0\n"
     ]
    }
   ],
   "source": [
    "# add a column with 0/1 labels to the dataframe 0 if VIOLATED_ARTICLE is empty, 1 otherwise\n",
    "df_train['labels'] = df_train['VIOLATED_ARTICLES'].apply(lambda x: 0 if x == [] else 1)\n",
    "df_dev['labels'] = df_dev['VIOLATED_ARTICLES'].apply(lambda x: 0 if x == [] else 1)\n",
    "df_test['labels'] = df_test['VIOLATED_ARTICLES'].apply(lambda x: 0 if x == [] else 1)\n",
    "\n",
    "# print VIOLATED_ARTICLES and labels\n",
    "print(df_train[['VIOLATED_ARTICLES', 'labels']].sample(10))"
   ]
  }
 ],
 "metadata": {
  "kernelspec": {
   "display_name": "Python 3",
   "language": "python",
   "name": "python3"
  },
  "language_info": {
   "codemirror_mode": {
    "name": "ipython",
    "version": 3
   },
   "file_extension": ".py",
   "mimetype": "text/x-python",
   "name": "python",
   "nbconvert_exporter": "python",
   "pygments_lexer": "ipython3",
   "version": "3.10.11"
  },
  "orig_nbformat": 4
 },
 "nbformat": 4,
 "nbformat_minor": 2
}
